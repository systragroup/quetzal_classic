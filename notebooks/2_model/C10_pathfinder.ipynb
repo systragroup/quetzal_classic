{
 "cells": [
  {
   "cell_type": "code",
   "execution_count": 60,
   "id": "71ccff01",
   "metadata": {},
   "outputs": [
    {
     "name": "stdout",
     "output_type": "stream",
     "text": [
      "{'training_folder': '../../scenarios/dallas/', 'params': {}}\n"
     ]
    }
   ],
   "source": [
    "import sys\n",
    "import json\n",
    "import numpy as np\n",
    "params = {}\n",
    "default = {'training_folder': '../../scenarios/dallas/', 'params': params} # Default execution parameters\n",
    "manual, argv = (True, default) if 'ipykernel' in sys.argv[0] else (False, dict(default, **json.loads(sys.argv[1])))\n",
    "print(argv)\n"
   ]
  },
  {
   "cell_type": "code",
   "execution_count": 61,
   "id": "de00e9ba",
   "metadata": {},
   "outputs": [],
   "source": [
    "def set_index(df):\n",
    "    if 'index' in df.columns:\n",
    "        df = df.set_index('index')\n",
    "    else:\n",
    "        df.index.name='index'\n",
    "    return df"
   ]
  },
  {
   "cell_type": "code",
   "execution_count": 62,
   "id": "99b5db61",
   "metadata": {},
   "outputs": [
    {
     "name": "stdout",
     "output_type": "stream",
     "text": [
      "num cores: 8\n"
     ]
    }
   ],
   "source": [
    "import os\n",
    "import time\n",
    "import geopandas as gpd\n",
    "import pandas as pd\n",
    "sys.path.insert(0, r'../../../quetzal') # Add path to quetzal\n",
    "from sklearn.neighbors import NearestNeighbors\n",
    "from numba import jit, njit\n",
    "import numba as nb\n",
    "from quetzal.model import stepmodel\n",
    "from shapely.geometry import LineString\n",
    "from quetzal.io.gtfs_reader.importer import get_epsg\n",
    "from quetzal.io import excel\n",
    "on_lambda = bool(os.environ.get('AWS_EXECUTION_ENV'))\n",
    "num_cores = nb.config.NUMBA_NUM_THREADS\n",
    "print('num cores:',num_cores)\n",
    "\n",
    "io_engine= 'pyogrio' if on_lambda else 'pyogrio' #or fiona"
   ]
  },
  {
   "cell_type": "code",
   "execution_count": 63,
   "id": "505c32e1",
   "metadata": {},
   "outputs": [],
   "source": [
    "base_folder = argv['training_folder']\n",
    "input_folder = os.path.join(base_folder,'inputs/')\n",
    "pt_folder  = os.path.join(input_folder,'pt/')\n",
    "road_folder = os.path.join(input_folder,'road/')\n",
    "od_folder =  os.path.join(input_folder,'od/')\n",
    "params_folder = input_folder if on_lambda else '../../inputs/'\n",
    "\n",
    "output_folder = os.path.join(base_folder,'outputs/')\n",
    "if not os.path.exists(output_folder):\n",
    "    os.makedirs(output_folder)\n",
    "    \n",
    "model_folder = os.path.join(base_folder, 'model/')"
   ]
  },
  {
   "cell_type": "code",
   "execution_count": 64,
   "id": "3dcb24f6",
   "metadata": {},
   "outputs": [],
   "source": [
    "var = excel.read_var(file=os.path.join(params_folder,'parameters.xlsx'), scenario='base', return_ancestry=False)\n",
    "if 'params' in argv.keys():\n",
    "    var.update(pd.DataFrame.from_dict(argv['params'], orient=\"index\").stack())\n",
    "    \n",
    "cutoff = var['pathfinder']['cutoff']   "
   ]
  },
  {
   "cell_type": "markdown",
   "id": "95a65cd0",
   "metadata": {},
   "source": [
    "# inputs"
   ]
  },
  {
   "cell_type": "code",
   "execution_count": 65,
   "id": "d25157cb",
   "metadata": {},
   "outputs": [
    {
     "name": "stderr",
     "output_type": "stream",
     "text": [
      "zones: 100%|██████████| 25/25 [00:01<00:00, 20.97it/s]              \n",
      "volumes: 100%|██████████| 1/1 [00:00<00:00, 100.70it/s]\n"
     ]
    }
   ],
   "source": [
    "sm = stepmodel.read_zippedpickles(model_folder + 'network')\n",
    "distribution = stepmodel.read_zippedpickles(model_folder + 'distribution')\n",
    "\n",
    "sm.volumes = distribution.volumes"
   ]
  },
  {
   "cell_type": "markdown",
   "id": "1d069eac",
   "metadata": {},
   "source": [
    "# od_set"
   ]
  },
  {
   "cell_type": "code",
   "execution_count": 66,
   "id": "a4df7a88",
   "metadata": {},
   "outputs": [
    {
     "data": {
      "text/plain": [
       "65181"
      ]
     },
     "execution_count": 66,
     "metadata": {},
     "output_type": "execute_result"
    }
   ],
   "source": [
    "v = sm.volumes.set_index(['origin', 'destination']).sum(axis=1)\n",
    "od_set = set(v.loc[v>0].index)\n"
   ]
  },
  {
   "cell_type": "markdown",
   "id": "913245a8",
   "metadata": {},
   "source": [
    "# PT pathfinder"
   ]
  },
  {
   "cell_type": "code",
   "execution_count": 67,
   "id": "660e9979",
   "metadata": {},
   "outputs": [
    {
     "name": "stdout",
     "output_type": "stream",
     "text": [
      "start publicpathfinder\n",
      "path_analysis\n"
     ]
    }
   ],
   "source": [
    "sm.step_pt_pathfinder(\n",
    "    broken_routes=False,\n",
    "    broken_modes=False,\n",
    "    keep_pathfinder=True,\n",
    "    mode_column='route_type',\n",
    "    route_column='route_id',\n",
    "    speedup=True,\n",
    "    walk_on_road=True,\n",
    "    path_analysis=False,\n",
    "    od_set=od_set,\n",
    "    engine='b', # b is faster!\n",
    ")\n",
    "ppf = sm.publicpathfinder"
   ]
  },
  {
   "cell_type": "markdown",
   "id": "d7615aea",
   "metadata": {},
   "source": [
    "# Pruning"
   ]
  },
  {
   "cell_type": "markdown",
   "id": "13a5f4dc",
   "metadata": {},
   "source": [
    "### Set broken routes and modes"
   ]
  },
  {
   "cell_type": "code",
   "execution_count": 68,
   "id": "e8916186",
   "metadata": {},
   "outputs": [
    {
     "name": "stdout",
     "output_type": "stream",
     "text": [
      "Broken Routes: []\n"
     ]
    }
   ],
   "source": [
    "broken_bus = []\n",
    "broken_routes = []\n",
    "print('Broken Routes:', broken_routes)"
   ]
  },
  {
   "cell_type": "code",
   "execution_count": 69,
   "id": "73590014",
   "metadata": {},
   "outputs": [
    {
     "name": "stdout",
     "output_type": "stream",
     "text": [
      "Broken Modes Combinaison: [{'bus'}, {'cable_car'}, {'rail'}, {'tram'}]\n"
     ]
    }
   ],
   "source": [
    "mode_combinations = []\n",
    "if var.get('pathfinder',{}).get('walk_pathfinder'):\n",
    "    mode_combinations.append(set(sm.links['route_type'].unique()))\n",
    "\n",
    "for mode in sm.links['route_type'].unique():\n",
    "    mode_combinations.append({mode})\n",
    "    \n",
    "print('Broken Modes Combinaison:', mode_combinations)"
   ]
  },
  {
   "cell_type": "code",
   "execution_count": 70,
   "id": "93121fe3",
   "metadata": {},
   "outputs": [
    {
     "name": "stderr",
     "output_type": "stream",
     "text": [
      "route_type {'bus'}: 100%|██████████| 4/4 [00:04<00:00,  1.05s/it]      \n"
     ]
    }
   ],
   "source": [
    "ppf.combinations = dict()\n",
    "ppf.combinations['route_id'] = [{route} for route in broken_routes]\n",
    "ppf.combinations['route_type'] = mode_combinations\n",
    "\n",
    "ppf.build_route_id_sets(first_and_last_only=True)\n",
    "ppf.build_route_type_sets(first_and_last_only=False)\n",
    "ppf.build_od_sets()\n",
    "\n",
    "ppf.splitted_od_sets['route_id'] = {\n",
    "    c : efficient_od_sets(od_set, factor=0.6, verbose=True) \n",
    "    for c, od_set in ppf.od_sets['route_id'].items()\n",
    "}\n",
    "\n",
    "\n",
    "ppf.broken_route_paths = pd.DataFrame()\n",
    "ppf.broken_mode_paths = pd.DataFrame()\n",
    "\n",
    "if var.get('pathfinder',{}).get('route_breaker'): \n",
    "    ppf.find_broken_combination_paths(column='route_id', cutoff=cutoff, build_shortcuts=False, prune=False)\n",
    "    ppf.broken_route_paths = ppf.broken_combination_paths\n",
    "    ppf.broken_route_paths['pathfinder_session'] = 'route_breaker' \n",
    "    ppf.broken_route_paths['broken_route'] = ppf.broken_route_paths['broken_route_id'].apply(\n",
    "        lambda s: list(s)[0]\n",
    "    )\n",
    "    \n",
    "if var.get('pathfinder',{}).get('mode_breaker'):\n",
    "    ppf.find_broken_combination_paths(column='route_type', cutoff=cutoff, build_shortcuts=False, prune=False)\n",
    "    ppf.broken_mode_paths = ppf.broken_combination_paths\n",
    "    ppf.broken_mode_paths['pathfinder_session'] = 'mode_breaker'\n",
    "    ppf.broken_mode_paths['broken_modes'] = ppf.broken_mode_paths['broken_route_type'].apply(set)"
   ]
  },
  {
   "cell_type": "code",
   "execution_count": 73,
   "id": "83b8f8a3",
   "metadata": {},
   "outputs": [
    {
     "name": "stdout",
     "output_type": "stream",
     "text": [
      "66053\n"
     ]
    },
    {
     "data": {
      "text/plain": [
       "best_path       65181\n",
       "mode_breaker      872\n",
       "Name: pathfinder_session, dtype: int64"
      ]
     },
     "execution_count": 73,
     "metadata": {},
     "output_type": "execute_result"
    }
   ],
   "source": [
    "pt_los = pd.concat([\n",
    "    ppf.best_paths,\n",
    "    ppf.broken_mode_paths, \n",
    "    ppf.broken_route_paths, \n",
    "    ]\n",
    ")\n",
    "pt_los['path'] = [tuple(p) for p in pt_los['path']]\n",
    "pt_los = pt_los.drop_duplicates(subset=['path'])\n",
    "\n",
    "print(len(pt_los))\n",
    "sm.pt_los = pt_los\n",
    "pt_los.set_index(['origin', 'destination'])['pathfinder_session'].value_counts()\n"
   ]
  },
  {
   "cell_type": "code",
   "execution_count": 74,
   "id": "b2d8653f",
   "metadata": {},
   "outputs": [],
   "source": [
    "\n",
    "sm.step_road_pathfinder(method='aon', access_time='time',time_column='time',od_set=od_set,path_analysis=True)"
   ]
  },
  {
   "cell_type": "code",
   "execution_count": 75,
   "id": "9c553847",
   "metadata": {},
   "outputs": [
    {
     "name": "stderr",
     "output_type": "stream",
     "text": [
      "path_analysis: 100%|██████████| 66053/66053 [00:03<00:00, 19151.88it/s]\n"
     ]
    }
   ],
   "source": [
    "sm.analysis_pt_los(walk_on_road=True)\n",
    "sm.analysis_pt_route_type(hierarchy=[ 'car','rail', 'subway', 'tram', 'bus', 'walk'])"
   ]
  },
  {
   "cell_type": "code",
   "execution_count": 76,
   "id": "4f932f73",
   "metadata": {},
   "outputs": [
    {
     "name": "stderr",
     "output_type": "stream",
     "text": [
      "car_los: 100%|██████████| 29/29 [00:12<00:00,  2.28it/s]            \n"
     ]
    }
   ],
   "source": [
    "sm.to_zippedpickles(model_folder +'los', omitted_attributes=['publicpathfinder'])"
   ]
  },
  {
   "cell_type": "code",
   "execution_count": 77,
   "id": "8424b7f5",
   "metadata": {},
   "outputs": [
    {
     "ename": "NameError",
     "evalue": "name 'end_of_notebook' is not defined",
     "output_type": "error",
     "traceback": [
      "\u001b[0;31m---------------------------------------------------------------------------\u001b[0m",
      "\u001b[0;31mNameError\u001b[0m                                 Traceback (most recent call last)",
      "Cell \u001b[0;32mIn[77], line 1\u001b[0m\n\u001b[0;32m----> 1\u001b[0m \u001b[43mend_of_notebook\u001b[49m\n",
      "\u001b[0;31mNameError\u001b[0m: name 'end_of_notebook' is not defined"
     ]
    }
   ],
   "source": [
    "end_of_notebook"
   ]
  }
 ],
 "metadata": {
  "kernelspec": {
   "display_name": "quetzal_env",
   "language": "python",
   "name": "quetzal_env"
  },
  "language_info": {
   "codemirror_mode": {
    "name": "ipython",
    "version": 3
   },
   "file_extension": ".py",
   "mimetype": "text/x-python",
   "name": "python",
   "nbconvert_exporter": "python",
   "pygments_lexer": "ipython3",
   "version": "3.8.19"
  }
 },
 "nbformat": 4,
 "nbformat_minor": 5
}
