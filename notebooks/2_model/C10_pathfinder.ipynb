{
 "cells": [
  {
   "cell_type": "code",
   "execution_count": 1,
   "id": "71ccff01",
   "metadata": {},
   "outputs": [
    {
     "name": "stdout",
     "output_type": "stream",
     "text": [
      "{'training_folder': '../../scenarios/dallas/', 'params': {}}\n"
     ]
    }
   ],
   "source": [
    "import sys\n",
    "import json\n",
    "import numpy as np\n",
    "params = {}\n",
    "default = {'training_folder': '../../scenarios/dallas/', 'params': params} # Default execution parameters\n",
    "manual, argv = (True, default) if 'ipykernel' in sys.argv[0] else (False, dict(default, **json.loads(sys.argv[1])))\n",
    "print(argv)\n"
   ]
  },
  {
   "cell_type": "code",
   "execution_count": 2,
   "id": "de00e9ba",
   "metadata": {},
   "outputs": [],
   "source": [
    "def set_index(df):\n",
    "    if 'index' in df.columns:\n",
    "        df = df.set_index('index')\n",
    "    else:\n",
    "        df.index.name='index'\n",
    "    return df"
   ]
  },
  {
   "cell_type": "code",
   "execution_count": 3,
   "id": "99b5db61",
   "metadata": {},
   "outputs": [
    {
     "name": "stdout",
     "output_type": "stream",
     "text": [
      "PyTables is not installed. No support for HDF output.\n",
      "num cores: 8\n"
     ]
    }
   ],
   "source": [
    "import os\n",
    "import time\n",
    "import geopandas as gpd\n",
    "import pandas as pd\n",
    "sys.path.insert(0, r'../../../quetzal') # Add path to quetzal\n",
    "from sklearn.neighbors import NearestNeighbors\n",
    "from numba import jit, njit\n",
    "import numba as nb\n",
    "from quetzal.model import stepmodel\n",
    "from shapely.geometry import LineString\n",
    "from quetzal.io.gtfs_reader.importer import get_epsg\n",
    "from quetzal.io import excel\n",
    "on_lambda = bool(os.environ.get('AWS_EXECUTION_ENV'))\n",
    "num_cores = nb.config.NUMBA_NUM_THREADS\n",
    "print('num cores:',num_cores)\n",
    "\n",
    "io_engine= 'pyogrio' if on_lambda else 'pyogrio' #or fiona"
   ]
  },
  {
   "cell_type": "code",
   "execution_count": 4,
   "id": "505c32e1",
   "metadata": {},
   "outputs": [],
   "source": [
    "base_folder = argv['training_folder']\n",
    "input_folder = os.path.join(base_folder,'inputs/')\n",
    "pt_folder  = os.path.join(input_folder,'pt/')\n",
    "road_folder = os.path.join(input_folder,'road/')\n",
    "od_folder =  os.path.join(input_folder,'od/')\n",
    "params_folder = input_folder if on_lambda else '../../inputs/'\n",
    "\n",
    "output_folder = os.path.join(base_folder,'outputs/')\n",
    "if not os.path.exists(output_folder):\n",
    "    os.makedirs(output_folder)\n",
    "    \n",
    "model_folder = os.path.join(base_folder, 'model/')"
   ]
  },
  {
   "cell_type": "code",
   "execution_count": 5,
   "id": "3dcb24f6",
   "metadata": {},
   "outputs": [],
   "source": [
    "var = excel.read_var(file=os.path.join(params_folder,'parameters.xlsx'), scenario='base', return_ancestry=False)\n",
    "if 'params' in argv.keys():\n",
    "    var.update(pd.DataFrame.from_dict(argv['params'], orient=\"index\").stack())\n",
    "    \n",
    "cutoff = var['pathfinder']['cutoff']   "
   ]
  },
  {
   "cell_type": "markdown",
   "id": "95a65cd0",
   "metadata": {},
   "source": [
    "# inputs"
   ]
  },
  {
   "cell_type": "code",
   "execution_count": 6,
   "id": "d25157cb",
   "metadata": {},
   "outputs": [
    {
     "name": "stderr",
     "output_type": "stream",
     "text": [
      "zones: 100%|██████████| 26/26 [00:01<00:00, 17.17it/s]          \n",
      "zone_before_clustering: 100%|██████████| 2/2 [00:00<00:00, 38.56it/s]\n"
     ]
    }
   ],
   "source": [
    "sm = stepmodel.read_zippedpickles(model_folder + 'network')\n",
    "distribution = stepmodel.read_zippedpickles(model_folder + 'distribution')\n",
    "\n",
    "sm.volumes = distribution.volumes"
   ]
  },
  {
   "cell_type": "markdown",
   "id": "1d069eac",
   "metadata": {},
   "source": [
    "# od_set"
   ]
  },
  {
   "cell_type": "code",
   "execution_count": 7,
   "id": "a4df7a88",
   "metadata": {},
   "outputs": [],
   "source": [
    "v = sm.volumes.set_index(['origin', 'destination']).sum(axis=1)\n",
    "od_set = set(v.loc[v>0].index)\n"
   ]
  },
  {
   "cell_type": "markdown",
   "id": "913245a8",
   "metadata": {},
   "source": [
    "# PT pathfinder"
   ]
  },
  {
   "cell_type": "code",
   "execution_count": 8,
   "id": "477cbc54",
   "metadata": {},
   "outputs": [
    {
     "name": "stdout",
     "output_type": "stream",
     "text": [
      "start publicpathfinder\n"
     ]
    },
    {
     "name": "stderr",
     "output_type": "stream",
     "text": [
      "route_id {'DART_25444'}: 100%|██████████| 110/110 [00:15<00:00,  6.88it/s]        \n",
      "route_type {'bus'}: 100%|██████████| 15/15 [00:05<00:00,  2.75it/s]                            "
     ]
    },
    {
     "name": "stdout",
     "output_type": "stream",
     "text": [
      "path_analysis\n"
     ]
    },
    {
     "name": "stderr",
     "output_type": "stream",
     "text": [
      "\n"
     ]
    }
   ],
   "source": [
    "cutoff=7200\n",
    "sm.step_pt_pathfinder(\n",
    "    broken_routes=True,\n",
    "    broken_modes=True,\n",
    "    keep_pathfinder=True,\n",
    "    mode_column='route_type',\n",
    "    route_column='route_id',\n",
    "    walk_on_road=True,\n",
    "    path_analysis=False,\n",
    "    od_set=od_set,\n",
    "    cutoff=cutoff,\n",
    "    verbose=False,\n",
    ")\n",
    "ppf = sm.publicpathfinder"
   ]
  },
  {
   "cell_type": "code",
   "execution_count": 9,
   "id": "83b8f8a3",
   "metadata": {},
   "outputs": [
    {
     "data": {
      "text/plain": [
       "route_breaker    5369\n",
       "best_path        4306\n",
       "mode_breaker     2072\n",
       "Name: pathfinder_session, dtype: int64"
      ]
     },
     "execution_count": 9,
     "metadata": {},
     "output_type": "execute_result"
    }
   ],
   "source": [
    "\n",
    "sm.pt_los.set_index(['origin', 'destination'])['pathfinder_session'].value_counts()\n"
   ]
  },
  {
   "cell_type": "code",
   "execution_count": 10,
   "id": "b2d8653f",
   "metadata": {},
   "outputs": [],
   "source": [
    "sm.step_road_pathfinder(method='aon', access_time='time',time_column='time',od_set=od_set,path_analysis=True)"
   ]
  },
  {
   "cell_type": "code",
   "execution_count": 11,
   "id": "9c553847",
   "metadata": {},
   "outputs": [
    {
     "name": "stderr",
     "output_type": "stream",
     "text": [
      "path_analysis: 100%|██████████| 11747/11747 [00:00<00:00, 54495.34it/s]\n"
     ]
    }
   ],
   "source": [
    "sm.analysis_pt_los(walk_on_road=True)\n",
    "sm.analysis_pt_route_type(hierarchy=[ 'car','rail', 'subway', 'tram', 'bus', 'walk'])"
   ]
  },
  {
   "cell_type": "code",
   "execution_count": 12,
   "id": "4f932f73",
   "metadata": {},
   "outputs": [
    {
     "name": "stderr",
     "output_type": "stream",
     "text": [
      "car_los: 100%|██████████| 30/30 [00:10<00:00,  2.94it/s]        \n"
     ]
    }
   ],
   "source": [
    "sm.to_zippedpickles(model_folder +'los', omitted_attributes=['publicpathfinder'])"
   ]
  },
  {
   "cell_type": "code",
   "execution_count": 13,
   "id": "8424b7f5",
   "metadata": {},
   "outputs": [
    {
     "ename": "NameError",
     "evalue": "name 'end_of_notebook' is not defined",
     "output_type": "error",
     "traceback": [
      "\u001b[0;31m---------------------------------------------------------------------------\u001b[0m",
      "\u001b[0;31mNameError\u001b[0m                                 Traceback (most recent call last)",
      "Cell \u001b[0;32mIn[13], line 1\u001b[0m\n\u001b[0;32m----> 1\u001b[0m \u001b[43mend_of_notebook\u001b[49m\n",
      "\u001b[0;31mNameError\u001b[0m: name 'end_of_notebook' is not defined"
     ]
    }
   ],
   "source": [
    "end_of_notebook"
   ]
  }
 ],
 "metadata": {
  "kernelspec": {
   "display_name": "quetzal_env",
   "language": "python",
   "name": "quetzal_env"
  },
  "language_info": {
   "codemirror_mode": {
    "name": "ipython",
    "version": 3
   },
   "file_extension": ".py",
   "mimetype": "text/x-python",
   "name": "python",
   "nbconvert_exporter": "python",
   "pygments_lexer": "ipython3",
   "version": "3.8.19"
  }
 },
 "nbformat": 4,
 "nbformat_minor": 5
}
