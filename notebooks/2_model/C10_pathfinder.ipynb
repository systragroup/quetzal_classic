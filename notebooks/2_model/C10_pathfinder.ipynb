{
 "cells": [
  {
   "cell_type": "code",
   "execution_count": 1,
   "id": "71ccff01",
   "metadata": {},
   "outputs": [
    {
     "name": "stdout",
     "output_type": "stream",
     "text": [
      "{'training_folder': '../../scenarios/houston/', 'params': {}}\n"
     ]
    }
   ],
   "source": [
    "import sys\n",
    "import json\n",
    "import numpy as np\n",
    "params = {}\n",
    "default = {'training_folder': '../../scenarios/houston/', 'params': params} # Default execution parameters\n",
    "manual, argv = (True, default) if 'ipykernel' in sys.argv[0] else (False, dict(default, **json.loads(sys.argv[1])))\n",
    "print(argv)\n"
   ]
  },
  {
   "cell_type": "code",
   "execution_count": 2,
   "id": "de00e9ba",
   "metadata": {},
   "outputs": [],
   "source": [
    "def set_index(df):\n",
    "    if 'index' in df.columns:\n",
    "        df = df.set_index('index')\n",
    "    else:\n",
    "        df.index.name='index'\n",
    "    return df"
   ]
  },
  {
   "cell_type": "code",
   "execution_count": 3,
   "id": "99b5db61",
   "metadata": {},
   "outputs": [
    {
     "name": "stdout",
     "output_type": "stream",
     "text": [
      "num cores: 8\n"
     ]
    }
   ],
   "source": [
    "import os\n",
    "import pandas as pd\n",
    "sys.path.insert(0, r'../../../quetzal') # Add path to quetzal\n",
    "import numba as nb\n",
    "from quetzal.model import stepmodel\n",
    "from quetzal.io import excel\n",
    "on_lambda = bool(os.environ.get('AWS_EXECUTION_ENV'))\n",
    "num_cores = nb.config.NUMBA_NUM_THREADS\n",
    "print('num cores:',num_cores)\n",
    "\n",
    "io_engine= 'pyogrio' if on_lambda else 'pyogrio' #or fiona"
   ]
  },
  {
   "cell_type": "markdown",
   "id": "733140de",
   "metadata": {},
   "source": [
    "assert False"
   ]
  },
  {
   "cell_type": "code",
   "execution_count": 4,
   "id": "505c32e1",
   "metadata": {},
   "outputs": [],
   "source": [
    "base_folder = argv['training_folder']\n",
    "input_folder = os.path.join(base_folder,'inputs/')\n",
    "pt_folder  = os.path.join(input_folder,'pt/')\n",
    "road_folder = os.path.join(input_folder,'road/')\n",
    "od_folder =  os.path.join(input_folder,'od/')\n",
    "params_folder = input_folder if on_lambda else '../../inputs/'\n",
    "\n",
    "output_folder = os.path.join(base_folder,'outputs/')\n",
    "if not os.path.exists(output_folder):\n",
    "    os.makedirs(output_folder)\n",
    "    \n",
    "model_folder = os.path.join(input_folder, 'model/')"
   ]
  },
  {
   "cell_type": "code",
   "execution_count": 5,
   "id": "3dcb24f6",
   "metadata": {},
   "outputs": [],
   "source": [
    "var = excel.read_var(file=os.path.join(params_folder,'parameters.xlsx'), scenario='base', return_ancestry=False)\n",
    "if 'params' in argv.keys():\n",
    "    var.update(pd.DataFrame.from_dict(argv['params'], orient=\"index\").stack())\n",
    "    \n",
    "cutoff = var['pathfinder']['cutoff']   "
   ]
  },
  {
   "cell_type": "markdown",
   "id": "95a65cd0",
   "metadata": {},
   "source": [
    "# inputs"
   ]
  },
  {
   "cell_type": "code",
   "execution_count": 6,
   "id": "d25157cb",
   "metadata": {},
   "outputs": [
    {
     "name": "stderr",
     "output_type": "stream",
     "text": [
      "zone_to_transit: 100%|██████████| 25/25 [00:02<00:00,  8.89it/s]   \n",
      "volumes: 100%|██████████| 1/1 [00:00<00:00, 98.53it/s]\n"
     ]
    }
   ],
   "source": [
    "sm = stepmodel.read_zippedpickles(model_folder + 'network')\n",
    "distribution = stepmodel.read_zippedpickles(model_folder + 'distribution')\n",
    "\n",
    "sm.volumes = distribution.volumes"
   ]
  },
  {
   "cell_type": "markdown",
   "id": "1d069eac",
   "metadata": {},
   "source": [
    "# od_set"
   ]
  },
  {
   "cell_type": "code",
   "execution_count": 7,
   "id": "a4df7a88",
   "metadata": {},
   "outputs": [
    {
     "data": {
      "text/plain": [
       "67780"
      ]
     },
     "execution_count": 7,
     "metadata": {},
     "output_type": "execute_result"
    }
   ],
   "source": [
    "v = sm.volumes.set_index(['origin', 'destination']).sum(axis=1)\n",
    "od_set = set(v.loc[v>0].index)\n",
    "len(od_set)"
   ]
  },
  {
   "cell_type": "code",
   "execution_count": 8,
   "id": "8472910c",
   "metadata": {},
   "outputs": [],
   "source": [
    "cutoff=7200"
   ]
  },
  {
   "cell_type": "code",
   "execution_count": 9,
   "id": "8eed8b67",
   "metadata": {},
   "outputs": [
    {
     "name": "stdout",
     "output_type": "stream",
     "text": [
      "Snakeviz configured with host localhost and port 8080\n"
     ]
    }
   ],
   "source": [
    "%load_ext snakeviz\n",
    "%snakeviz_config -h localhost -p 8080"
   ]
  },
  {
   "cell_type": "markdown",
   "id": "913245a8",
   "metadata": {},
   "source": [
    "# PT pathfinder"
   ]
  },
  {
   "cell_type": "code",
   "execution_count": 15,
   "id": "660e9979",
   "metadata": {},
   "outputs": [
    {
     "name": "stdout",
     "output_type": "stream",
     "text": [
      "start publicpathfinder\n"
     ]
    },
    {
     "name": "stderr",
     "output_type": "stream",
     "text": [
      "route_id {'HOU_161'}: 100%|██████████| 87/87 [00:23<00:00,  3.66it/s]\n",
      "route_type {'tram'}: 100%|██████████| 3/3 [00:02<00:00,  1.49it/s]       "
     ]
    },
    {
     "name": "stdout",
     "output_type": "stream",
     "text": [
      "path_analysis\n"
     ]
    },
    {
     "name": "stderr",
     "output_type": "stream",
     "text": [
      "\n"
     ]
    }
   ],
   "source": [
    "sm.step_pt_pathfinder(\n",
    "    broken_routes=True,\n",
    "    broken_modes=True,\n",
    "    keep_pathfinder=True,\n",
    "    mode_column='route_type',\n",
    "    route_column='route_id',\n",
    "    walk_on_road=True,\n",
    "    path_analysis=False,\n",
    "    od_set=od_set,\n",
    "    cutoff=cutoff,\n",
    "    verbose=False,\n",
    ")\n",
    "ppf = sm.publicpathfinder"
   ]
  },
  {
   "cell_type": "code",
   "execution_count": 14,
   "id": "0228d98d",
   "metadata": {},
   "outputs": [
    {
     "name": "stderr",
     "output_type": "stream",
     "text": [
      "route_id {'HOU_222'}: 100%|██████████| 87/87 [00:26<00:00,  3.30it/s]\n",
      "route_type {'tram'}: 100%|██████████| 3/3 [00:02<00:00,  1.38it/s]       \n"
     ]
    },
    {
     "name": "stdout",
     "output_type": "stream",
     "text": [
      " \n",
      "*** Profile stats marshalled to file 'C:\\\\Users\\\\QCHASS~1\\\\AppData\\\\Local\\\\Temp\\\\tmpw_frynut'.\n",
      "Embedding SnakeViz in this document...\n",
      "<function display at 0x0000021CAF0F2280>\n"
     ]
    },
    {
     "data": {
      "text/html": [
       "\n",
       "<iframe id='snakeviz-9f22c68f-12d4-11ef-80e5-845cf33d2eb1' frameborder=0 seamless width='100%' height='1000'></iframe>\n",
       "<script>document.getElementById(\"snakeviz-9f22c68f-12d4-11ef-80e5-845cf33d2eb1\").setAttribute(\"src\", \"http://localhost:8080/snakeviz/C%3A%5CUsers%5CQCHASS~1%5CAppData%5CLocal%5CTemp%5Ctmpw_frynut\")</script>\n"
      ],
      "text/plain": [
       "<IPython.core.display.HTML object>"
      ]
     },
     "metadata": {},
     "output_type": "display_data"
    }
   ],
   "source": [
    "%%snakeviz\n",
    "self = ppf\n",
    "\n",
    "broken_routes = True\n",
    "broken_modes = True\n",
    "mode_column = 'route_type'\n",
    "route_column = 'route_id'\n",
    "verbose = False\n",
    "\n",
    "self.combinations = dict()\n",
    "# BUILD ALL MODE COMBINATIONS \n",
    "mode_combinations = [set()]\n",
    "modes = set(self.links[mode_column])\n",
    "for mode in modes:\n",
    "    mode_combinations += [s.union({mode}) for s in mode_combinations] \n",
    "self.combinations[mode_column] = mode_combinations[1:] # remove empty set\n",
    "\n",
    "# BUILD ROUTE COMBINATIONS | ONLY ONE ROUTE BROKEN IN EACH COMBINATION\n",
    "broken_route_set = set(self.links[route_column])\n",
    "self.combinations[route_column] = [{route} for route in broken_route_set]\n",
    "\n",
    "# BUILD OD SETS\n",
    "self.build_route_id_sets(first_and_last_only=False)\n",
    "self.build_route_type_sets(first_and_last_only=False)\n",
    "self.build_od_sets(split_factor=0.5, verbose=verbose)\n",
    "\n",
    "\n",
    "# FIND BROKEN ROUTES\n",
    "self.broken_route_paths = pd.DataFrame()\n",
    "if broken_routes:\n",
    "    self.find_broken_combination_paths(column='route_id', cutoff=cutoff, build_shortcuts=False, prune=False, reuse_matrix=True, keep_matrix=True, log=verbose)\n",
    "    self.broken_route_paths = self.broken_combination_paths\n",
    "    self.broken_route_paths['pathfinder_session'] = 'route_breaker' \n",
    "    self.broken_route_paths['broken_route'] = self.broken_route_paths['broken_' + route_column].apply(\n",
    "        lambda s: list(s)[0]\n",
    "    ) # we assume only one route is broken at a time\n",
    "\n",
    "# FIND BROKEN PATHS\n",
    "self.broken_mode_paths = pd.DataFrame()\n",
    "if var.get('pathfinder',{}).get('mode_breaker') or True:\n",
    "    self.find_broken_combination_paths(column='route_type', cutoff=cutoff, build_shortcuts=False, prune=False, reuse_matrix=True, log=verbose, keep_matrix=True)\n",
    "    self.broken_mode_paths = self.broken_combination_paths\n",
    "    self.broken_mode_paths['pathfinder_session'] = 'mode_breaker'\n",
    "    self.broken_mode_paths['broken_modes'] = self.broken_mode_paths['broken_' + mode_column].apply(set)\n",
    "\n",
    "self.paths = pd.concat([\n",
    "    self.best_paths,\n",
    "    self.broken_mode_paths, \n",
    "    self.broken_route_paths, \n",
    "    ]\n",
    ")\n",
    "self.paths['path'] = [tuple(p) for p in self.paths['path']]\n",
    "self.paths = self.paths.drop_duplicates(subset=['path'])"
   ]
  },
  {
   "cell_type": "code",
   "execution_count": 13,
   "id": "cfba15f8",
   "metadata": {},
   "outputs": [
    {
     "data": {
      "text/plain": [
       "route_breaker    10239\n",
       "best_path         7052\n",
       "mode_breaker      1539\n",
       "Name: pathfinder_session, dtype: int64"
      ]
     },
     "execution_count": 13,
     "metadata": {},
     "output_type": "execute_result"
    }
   ],
   "source": [
    "ppf.paths.set_index(['origin', 'destination'])['pathfinder_session'].value_counts()"
   ]
  },
  {
   "cell_type": "code",
   "execution_count": 15,
   "id": "4782c48d",
   "metadata": {},
   "outputs": [],
   "source": [
    "self.build_od_sets(split_factor=0.5, verbose=verbose)"
   ]
  },
  {
   "cell_type": "markdown",
   "id": "d7615aea",
   "metadata": {},
   "source": [
    "# Pruning"
   ]
  },
  {
   "cell_type": "markdown",
   "id": "13a5f4dc",
   "metadata": {},
   "source": [
    "### Set broken routes and modes"
   ]
  },
  {
   "cell_type": "code",
   "execution_count": null,
   "id": "e8916186",
   "metadata": {},
   "outputs": [],
   "source": [
    "broken_bus = []\n",
    "broken_routes = set(sm.links['route_id'])\n",
    "print('Broken Routes:', broken_routes)"
   ]
  },
  {
   "cell_type": "code",
   "execution_count": null,
   "id": "73590014",
   "metadata": {},
   "outputs": [],
   "source": [
    "mode_combinations = []\n",
    "if var.get('pathfinder',{}).get('walk_pathfinder'):\n",
    "    mode_combinations.append(set(sm.links['route_type'].unique()))\n",
    "\n",
    "for mode in sm.links['route_type'].unique():\n",
    "    mode_combinations.append({mode})\n",
    "    \n",
    "print('Broken Modes Combinaison:', mode_combinations)"
   ]
  },
  {
   "cell_type": "code",
   "execution_count": null,
   "id": "93121fe3",
   "metadata": {},
   "outputs": [],
   "source": [
    "self.combinations = dict()\n",
    "self.combinations['route_id'] = [{route} for route in broken_routes]\n",
    "self.combinations['route_type'] = mode_combinations\n",
    "\n",
    "self.build_route_id_sets(first_and_last_only=False)\n",
    "self.build_route_type_sets(first_and_last_only=False)\n",
    "self.build_od_sets(split_factor=0.5, verbose=True)\n"
   ]
  },
  {
   "cell_type": "code",
   "execution_count": null,
   "id": "5e23ef74",
   "metadata": {},
   "outputs": [],
   "source": [
    "from quetzal.engine.pathfinder_utils import *"
   ]
  },
  {
   "cell_type": "code",
   "execution_count": null,
   "id": "d2be1a52",
   "metadata": {},
   "outputs": [],
   "source": [
    "def pt(path):\n",
    "    for i in path:\n",
    "        if 'link' in i:\n",
    "            return True\n",
    "    return False"
   ]
  },
  {
   "cell_type": "code",
   "execution_count": null,
   "id": "61006be2",
   "metadata": {},
   "outputs": [],
   "source": [
    "sm.pt_los['pt'] = sm.pt_los['path'].apply(pt)\n",
    "sm.pt_los['pt'].sum()"
   ]
  },
  {
   "cell_type": "code",
   "execution_count": null,
   "id": "17dd7775",
   "metadata": {},
   "outputs": [],
   "source": [
    "link_e = link_edge_array(ppf.links, 300)\n",
    "footpaths_e = ppf.footpaths[['a', 'b', 'time']].values\n",
    "ntlegs_e = ppf.ntlegs[['a', 'b', 'time']].values\n",
    "edges = np.concatenate([link_e, footpaths_e, ntlegs_e])"
   ]
  },
  {
   "cell_type": "code",
   "execution_count": null,
   "id": "3641c624",
   "metadata": {},
   "outputs": [],
   "source": [
    "#%%snakeviz \n",
    "paths_from_edges(edges, od_set={('zone_8', 'zone_36')}, cutoff=np.inf)"
   ]
  },
  {
   "cell_type": "code",
   "execution_count": null,
   "id": "8204d36f",
   "metadata": {},
   "outputs": [],
   "source": [
    "#%%snakeviz\n",
    "ppf.broken_route_paths = pd.DataFrame()\n",
    "\n",
    "\n",
    "if var.get('pathfinder',{}).get('route_breaker') or True:\n",
    "    ppf.find_broken_combination_paths(column='route_id', cutoff=cutoff, build_shortcuts=False, prune=False, reuse_matrix=False)\n",
    "    ppf.broken_route_paths = ppf.broken_combination_paths\n",
    "    ppf.broken_route_paths['pathfinder_session'] = 'route_breaker' \n",
    "    ppf.broken_route_paths['broken_route'] = ppf.broken_route_paths['broken_route_id'].apply(\n",
    "        lambda s: list(s)[0]\n",
    "    )"
   ]
  },
  {
   "cell_type": "code",
   "execution_count": null,
   "id": "73a3a64d",
   "metadata": {},
   "outputs": [],
   "source": [
    "#%%snakeviz\n",
    "ppf.broken_mode_paths = pd.DataFrame()\n",
    "if var.get('pathfinder',{}).get('mode_breaker') or True:\n",
    "    ppf.find_broken_combination_paths(column='route_type', cutoff=cutoff, build_shortcuts=False, prune=False, reuse_matrix=True, log=True, keep_matrix=False)\n",
    "    ppf.broken_mode_paths = ppf.broken_combination_paths\n",
    "    ppf.broken_mode_paths['pathfinder_session'] = 'mode_breaker'\n",
    "    ppf.broken_mode_paths['broken_modes'] = ppf.broken_mode_paths['broken_route_type'].apply(set)"
   ]
  },
  {
   "cell_type": "code",
   "execution_count": null,
   "id": "f4d21ff8",
   "metadata": {},
   "outputs": [],
   "source": []
  },
  {
   "cell_type": "code",
   "execution_count": null,
   "id": "83b8f8a3",
   "metadata": {},
   "outputs": [],
   "source": [
    "pt_los = pd.concat([\n",
    "    ppf.best_paths,\n",
    "    ppf.broken_mode_paths, \n",
    "    ppf.broken_route_paths, \n",
    "    ]\n",
    ")\n",
    "pt_los['path'] = [tuple(p) for p in pt_los['path']]\n",
    "pt_los = pt_los.drop_duplicates(subset=['path'])\n",
    "\n",
    "print(len(pt_los))\n",
    "sm.pt_los = pt_los\n",
    "pt_los['pt'] = pt_los['path'].apply(pt)\n",
    "pt_los.set_index(['origin', 'destination'])['pathfinder_session'].value_counts()\n"
   ]
  },
  {
   "cell_type": "code",
   "execution_count": null,
   "id": "fff8d6bb",
   "metadata": {},
   "outputs": [],
   "source": [
    "paths_from_edges(edges, od_set={('zone_310', 'zone_196')}, cutoff=np.inf, csgraph=pmatrix, node_index=ppf.node_index)"
   ]
  },
  {
   "cell_type": "code",
   "execution_count": null,
   "id": "eecd1a05",
   "metadata": {},
   "outputs": [],
   "source": [
    "#pmatrix[ppf.node_index['link_6067']].data += np.inf\n",
    "pmatrix[ppf.node_index['link_6067']].data"
   ]
  },
  {
   "cell_type": "code",
   "execution_count": null,
   "id": "f7fa3219",
   "metadata": {},
   "outputs": [],
   "source": [
    "pmatrix[ppf.node_index['link_6067']].data = pmatrix[ppf.node_index['link_6067']].data + np.inf\n",
    "pmatrix[ppf.node_index['link_6067']].indices"
   ]
  },
  {
   "cell_type": "code",
   "execution_count": null,
   "id": "c2e3bcfa",
   "metadata": {},
   "outputs": [],
   "source": [
    "i = [ppf.node_index['link_6067']]\n",
    "for j in pmatrix[i].indices:\n",
    "    pmatrix[i,j] = np.inf"
   ]
  },
  {
   "cell_type": "code",
   "execution_count": null,
   "id": "5648f818",
   "metadata": {},
   "outputs": [],
   "source": [
    "pmatrix[i].data"
   ]
  },
  {
   "cell_type": "code",
   "execution_count": null,
   "id": "ea974e6b",
   "metadata": {},
   "outputs": [],
   "source": [
    "print(dir(pmatrix[ppf.node_index['link_6067']]))"
   ]
  },
  {
   "cell_type": "code",
   "execution_count": null,
   "id": "ae4b96b3",
   "metadata": {},
   "outputs": [],
   "source": [
    "rid_set = set(ppf.links['route_id'])"
   ]
  },
  {
   "cell_type": "code",
   "execution_count": null,
   "id": "9efce21a",
   "metadata": {},
   "outputs": [],
   "source": [
    "mylos = pt_los.loc[(pt_los['broken_route_type'] == frozenset(['bus'])) & (pt_los['pt']== True)]\n",
    "paths =  mylos['path']\n",
    "route_types = ppf.links['route_type'].to_dict()\n",
    "route_type_set = set()\n",
    "for p in paths : \n",
    "    route_type_set = route_type_set.union({route_types.get(n, None) for n in p})\n",
    "route_type_set"
   ]
  },
  {
   "cell_type": "code",
   "execution_count": null,
   "id": "129dae79",
   "metadata": {},
   "outputs": [],
   "source": [
    "for route_id in rid_set:\n",
    "    mylos = pt_los.loc[(pt_los['broken_route_id'] == frozenset([])) & (pt_los['pt']== True)]\n",
    "    paths =  mylos['path']\n",
    "    route_types = ppf.links['route_id'].to_dict()\n",
    "    route_type_set = set()\n",
    "    for p in paths : \n",
    "        route_type_set = route_type_set.union({route_types.get(n, None) for n in p})\n",
    "    assert route_id not in route_type_set"
   ]
  },
  {
   "cell_type": "code",
   "execution_count": null,
   "id": "52e53189",
   "metadata": {},
   "outputs": [],
   "source": [
    "mylos"
   ]
  },
  {
   "cell_type": "code",
   "execution_count": null,
   "id": "cba9658d",
   "metadata": {},
   "outputs": [],
   "source": [
    "route_types = ppf.links['route_type'].to_dict()\n",
    "route_type_set = set()\n",
    "for p in paths : \n",
    "    route_type_set = route_type_set.union({route_types.get(n, None) for n in p})\n",
    "route_type_set"
   ]
  },
  {
   "cell_type": "code",
   "execution_count": null,
   "id": "c774c561",
   "metadata": {},
   "outputs": [],
   "source": [
    "pt_los.loc[(pt_los['broken_route_type'] == frozenset(['bus'])) & (pt_los['pt']== True)]['path']"
   ]
  },
  {
   "cell_type": "code",
   "execution_count": null,
   "id": "b2d8653f",
   "metadata": {},
   "outputs": [],
   "source": [
    "\n",
    "sm.step_road_pathfinder(method='aon', access_time='time',time_column='time',od_set=od_set,path_analysis=True)"
   ]
  },
  {
   "cell_type": "code",
   "execution_count": null,
   "id": "9c553847",
   "metadata": {},
   "outputs": [],
   "source": [
    "sm.analysis_pt_los(walk_on_road=True)\n",
    "sm.analysis_pt_route_type(hierarchy=[ 'car','rail', 'subway', 'tram', 'bus', 'walk'])"
   ]
  },
  {
   "cell_type": "code",
   "execution_count": null,
   "id": "4f932f73",
   "metadata": {},
   "outputs": [],
   "source": [
    "sm.to_zippedpickles(model_folder +'los', omitted_attributes=['publicpathfinder'])"
   ]
  },
  {
   "cell_type": "code",
   "execution_count": null,
   "id": "67a04e50",
   "metadata": {},
   "outputs": [],
   "source": []
  }
 ],
 "metadata": {
  "kernelspec": {
   "display_name": "quetzal_env",
   "language": "python",
   "name": "python3"
  },
  "language_info": {
   "codemirror_mode": {
    "name": "ipython",
    "version": 3
   },
   "file_extension": ".py",
   "mimetype": "text/x-python",
   "name": "python",
   "nbconvert_exporter": "python",
   "pygments_lexer": "ipython3",
   "version": "3.8.19"
  }
 },
 "nbformat": 4,
 "nbformat_minor": 5
}
