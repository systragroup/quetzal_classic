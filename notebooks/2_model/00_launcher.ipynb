{
 "cells": [
  {
   "cell_type": "code",
   "execution_count": 6,
   "metadata": {},
   "outputs": [],
   "source": [
    "import sys\n",
    "sys.path.insert(0, r'../../../quetzal')\n",
    "from quetzal.os.parallel_call import parallel_call_notebook\n",
    "import json\n",
    "import os\n",
    "import pandas as pd\n",
    "\n",
    "qpath = '../../'\n",
    "input_path =  qpath + r'inputs/'\n",
    "if not os.path.exists(\"log/\"):\n",
    "    os.makedirs(\"log/\")"
   ]
  },
  {
   "cell_type": "code",
   "execution_count": 20,
   "metadata": {},
   "outputs": [],
   "source": [
    "params = {}\n",
    "arg_list = [{'training_folder': '../../scenarios/houston/', 'params': params} ]\n",
    "arg_list = [json.dumps(arg) for arg in arg_list]"
   ]
  },
  {
   "cell_type": "code",
   "execution_count": 21,
   "metadata": {},
   "outputs": [],
   "source": [
    "#parameter_frame = pd.read_excel(input_path + 'parameters.xlsx').set_index(['category','parameter'])\n",
    "#scenario_list = list(parameter_frame.columns)"
   ]
  },
  {
   "cell_type": "code",
   "execution_count": 22,
   "metadata": {},
   "outputs": [],
   "source": [
    "kwargs = {\"workers\": 1, \"errout_suffix\":True, \"sleep\":1, \"stdout_path\":r\"log/out.txt\", \"stderr_path\":r\"log/err.txt\"}"
   ]
  },
  {
   "cell_type": "code",
   "execution_count": 23,
   "metadata": {},
   "outputs": [
    {
     "name": "stderr",
     "output_type": "stream",
     "text": [
      "[NbConvertApp] Converting notebook ../1_preparation/format_inputs.ipynb to python\n",
      "[NbConvertApp] Writing 1882 bytes to ../1_preparation/format_inputs.py\n"
     ]
    },
    {
     "name": "stdout",
     "output_type": "stream",
     "text": [
      "0 format_inputs.py {\"training_folder\": \"../../scenarios/houston/\", \"params\": {}}\n",
      "subprocess **format_inputs.py0 {\"training_folder\": \"../../scenarios/houston/\", \"params\": {}}** terminated with an error.\n",
      "4 seconds\n"
     ]
    }
   ],
   "source": [
    "parallel_call_notebook('../1_preparation/format_inputs.ipynb',arg_list=arg_list, **kwargs)"
   ]
  },
  {
   "cell_type": "code",
   "execution_count": 24,
   "metadata": {},
   "outputs": [
    {
     "name": "stderr",
     "output_type": "stream",
     "text": [
      "[NbConvertApp] Converting notebook B10_network_preparation.ipynb to python\n",
      "[NbConvertApp] Writing 4889 bytes to B10_network_preparation.py\n"
     ]
    },
    {
     "name": "stdout",
     "output_type": "stream",
     "text": [
      "0 B10_network_preparation.py {\"training_folder\": \"../../scenarios/houston/\", \"params\": {}}\n",
      "subprocess **B10_network_preparation.py0 {\"training_folder\": \"../../scenarios/houston/\", \"params\": {}}** terminated with an error.\n",
      "30 seconds\n"
     ]
    }
   ],
   "source": [
    "parallel_call_notebook('B10_network_preparation.ipynb', arg_list=arg_list, **kwargs)"
   ]
  },
  {
   "cell_type": "code",
   "execution_count": null,
   "metadata": {},
   "outputs": [],
   "source": [
    "parallel_call_notebook('B15_aon_pathfinder.ipynb', arg_list=[default], **kwargs)"
   ]
  },
  {
   "cell_type": "code",
   "execution_count": null,
   "metadata": {},
   "outputs": [],
   "source": [
    "parallel_call_notebook('B20_generation_distribution.ipynb', arg_list=[default], **kwargs)"
   ]
  },
  {
   "cell_type": "code",
   "execution_count": null,
   "metadata": {},
   "outputs": [],
   "source": [
    "parallel_call_notebook('C10_pathfinder.ipynb', arg_list=[default] , **kwargs)"
   ]
  },
  {
   "cell_type": "code",
   "execution_count": null,
   "metadata": {},
   "outputs": [],
   "source": [
    "parallel_call_notebook('C20_logit_assignment.ipynb', arg_list=[default] , **kwargs)"
   ]
  }
 ],
 "metadata": {
  "kernelspec": {
   "display_name": "quetzal_env",
   "language": "python",
   "name": "quetzal_env"
  },
  "language_info": {
   "codemirror_mode": {
    "name": "ipython",
    "version": 3
   },
   "file_extension": ".py",
   "mimetype": "text/x-python",
   "name": "python",
   "nbconvert_exporter": "python",
   "pygments_lexer": "ipython3",
   "version": "3.8.6"
  }
 },
 "nbformat": 4,
 "nbformat_minor": 2
}
