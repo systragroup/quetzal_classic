{
 "cells": [
  {
   "cell_type": "code",
   "execution_count": 44,
   "metadata": {},
   "outputs": [],
   "source": [
    "import sys\n",
    "sys.path.insert(0, r'../../../quetzal')\n",
    "from quetzal.os.parallel_call import parallel_call_notebook\n",
    "import json\n",
    "import os\n",
    "import pandas as pd\n",
    "\n",
    "qpath = '../../'\n",
    "input_path =  qpath + r'inputs/'"
   ]
  },
  {
   "cell_type": "code",
   "execution_count": 45,
   "metadata": {},
   "outputs": [],
   "source": [
    "params = {}\n",
    "default = {'training_folder': '../../scenarios/houston/', 'params': params} "
   ]
  },
  {
   "cell_type": "code",
   "execution_count": 46,
   "metadata": {},
   "outputs": [],
   "source": [
    "#parameter_frame = pd.read_excel(input_path + 'parameters.xlsx').set_index(['category','parameter'])\n",
    "#scenario_list = list(parameter_frame.columns)"
   ]
  },
  {
   "cell_type": "code",
   "execution_count": 47,
   "metadata": {},
   "outputs": [],
   "source": [
    "kwargs = {'workers':1, 'errout_suffix':True, 'sleep':1,'stdout_path':r'log/out.txt', 'stderr_path':r'log/err.txt'}"
   ]
  },
  {
   "cell_type": "code",
   "execution_count": 48,
   "metadata": {},
   "outputs": [
    {
     "name": "stderr",
     "output_type": "stream",
     "text": [
      "Traceback (most recent call last):\n",
      "  File \"/home/robitaille/.local/lib/python3.8/site-packages/jsonschema_specifications/_core.py\", line 8, in <module>\n",
      "    from importlib.resources import files\n",
      "ImportError: cannot import name 'files' from 'importlib.resources' (/usr/lib/python3.8/importlib/resources.py)\n",
      "\n",
      "During handling of the above exception, another exception occurred:\n",
      "\n",
      "Traceback (most recent call last):\n",
      "  File \"/home/robitaille/.local/bin/jupyter-nbconvert\", line 5, in <module>\n",
      "    from nbconvert.nbconvertapp import main\n",
      "  File \"/home/robitaille/.local/lib/python3.8/site-packages/nbconvert/nbconvertapp.py\", line 24, in <module>\n",
      "    from nbconvert import __version__, exporters, postprocessors, preprocessors, writers\n",
      "  File \"/home/robitaille/.local/lib/python3.8/site-packages/nbconvert/exporters/__init__.py\", line 1, in <module>\n",
      "    from .asciidoc import ASCIIDocExporter\n",
      "  File \"/home/robitaille/.local/lib/python3.8/site-packages/nbconvert/exporters/asciidoc.py\", line 9, in <module>\n",
      "    from .templateexporter import TemplateExporter\n",
      "  File \"/home/robitaille/.local/lib/python3.8/site-packages/nbconvert/exporters/templateexporter.py\", line 26, in <module>\n",
      "    from nbformat import NotebookNode\n",
      "  File \"/home/robitaille/.local/lib/python3.8/site-packages/nbformat/__init__.py\", line 14, in <module>\n",
      "    from . import v1, v2, v3, v4\n",
      "  File \"/home/robitaille/.local/lib/python3.8/site-packages/nbformat/v4/__init__.py\", line 24, in <module>\n",
      "    from .convert import downgrade, upgrade\n",
      "  File \"/home/robitaille/.local/lib/python3.8/site-packages/nbformat/v4/convert.py\", line 12, in <module>\n",
      "    from nbformat import v3, validator\n",
      "  File \"/home/robitaille/.local/lib/python3.8/site-packages/nbformat/validator.py\", line 16, in <module>\n",
      "    from .json_compat import ValidationError, _validator_for_name, get_current_validator\n",
      "  File \"/home/robitaille/.local/lib/python3.8/site-packages/nbformat/json_compat.py\", line 12, in <module>\n",
      "    import jsonschema\n",
      "  File \"/home/robitaille/.local/lib/python3.8/site-packages/jsonschema/__init__.py\", line 16, in <module>\n",
      "    from jsonschema.validators import (\n",
      "  File \"/home/robitaille/.local/lib/python3.8/site-packages/jsonschema/validators.py\", line 20, in <module>\n",
      "    from jsonschema_specifications import REGISTRY as SPECIFICATIONS\n",
      "  File \"/home/robitaille/.local/lib/python3.8/site-packages/jsonschema_specifications/__init__.py\", line 6, in <module>\n",
      "    from jsonschema_specifications._core import _schemas\n",
      "  File \"/home/robitaille/.local/lib/python3.8/site-packages/jsonschema_specifications/_core.py\", line 10, in <module>\n",
      "    from importlib_resources import (  # type: ignore[import-not-found, no-redef]\n",
      "ModuleNotFoundError: No module named 'importlib_resources'\n"
     ]
    },
    {
     "ename": "FileNotFoundError",
     "evalue": "[Errno 2] No such file or directory: '../1_preparation/format_inputs.py'",
     "output_type": "error",
     "traceback": [
      "\u001b[0;31m---------------------------------------------------------------------------\u001b[0m",
      "\u001b[0;31mFileNotFoundError\u001b[0m                         Traceback (most recent call last)",
      "Cell \u001b[0;32mIn[48], line 1\u001b[0m\n\u001b[0;32m----> 1\u001b[0m \u001b[43mparallel_call_notebook\u001b[49m\u001b[43m(\u001b[49m\u001b[38;5;124;43m'\u001b[39;49m\u001b[38;5;124;43m../1_preparation/format_inputs.ipynb\u001b[39;49m\u001b[38;5;124;43m'\u001b[39;49m\u001b[43m,\u001b[49m\u001b[43marg_list\u001b[49m\u001b[38;5;241;43m=\u001b[39;49m\u001b[43m[\u001b[49m\u001b[43mdefault\u001b[49m\u001b[43m]\u001b[49m\u001b[43m,\u001b[49m\u001b[43m \u001b[49m\u001b[38;5;241;43m*\u001b[39;49m\u001b[38;5;241;43m*\u001b[39;49m\u001b[43mkwargs\u001b[49m\u001b[43m)\u001b[49m\n",
      "File \u001b[0;32m~/Quetzal/quetzal_classic/notebooks/2_model/../../../quetzal/quetzal/os/parallel_call.py:132\u001b[0m, in \u001b[0;36mparallel_call_notebook\u001b[0;34m(notebook, arg_list, stdout_path, stderr_path, workers, sleep, leave, errout_suffix, freeze_support, return_jobs)\u001b[0m\n\u001b[1;32m    130\u001b[0m file \u001b[38;5;241m=\u001b[39m notebook\u001b[38;5;241m.\u001b[39mreplace(\u001b[38;5;124m'\u001b[39m\u001b[38;5;124m.ipynb\u001b[39m\u001b[38;5;124m'\u001b[39m, \u001b[38;5;124m'\u001b[39m\u001b[38;5;124m.py\u001b[39m\u001b[38;5;124m'\u001b[39m)\n\u001b[1;32m    131\u001b[0m \u001b[38;5;28;01mif\u001b[39;00m freeze_support:\n\u001b[0;32m--> 132\u001b[0m     \u001b[43madd_freeze_support\u001b[49m\u001b[43m(\u001b[49m\u001b[43mfile\u001b[49m\u001b[43m)\u001b[49m\n\u001b[1;32m    134\u001b[0m mode \u001b[38;5;241m=\u001b[39m \u001b[38;5;124m'\u001b[39m\u001b[38;5;124mw\u001b[39m\u001b[38;5;124m'\u001b[39m \u001b[38;5;28;01mif\u001b[39;00m errout_suffix \u001b[38;5;28;01melse\u001b[39;00m \u001b[38;5;124m'\u001b[39m\u001b[38;5;124ma+\u001b[39m\u001b[38;5;124m'\u001b[39m\n\u001b[1;32m    136\u001b[0m supported_characters \u001b[38;5;241m=\u001b[39m string\u001b[38;5;241m.\u001b[39mascii_lowercase \u001b[38;5;241m+\u001b[39m string\u001b[38;5;241m.\u001b[39mascii_uppercase \u001b[38;5;241m+\u001b[39m string\u001b[38;5;241m.\u001b[39mdigits \u001b[38;5;241m+\u001b[39m \u001b[38;5;124m'\u001b[39m\u001b[38;5;124m-_\u001b[39m\u001b[38;5;124m'\u001b[39m \n",
      "File \u001b[0;32m~/Quetzal/quetzal_classic/notebooks/2_model/../../../quetzal/quetzal/os/parallel_call.py:12\u001b[0m, in \u001b[0;36madd_freeze_support\u001b[0;34m(file)\u001b[0m\n\u001b[1;32m     11\u001b[0m \u001b[38;5;28;01mdef\u001b[39;00m \u001b[38;5;21madd_freeze_support\u001b[39m(file):\n\u001b[0;32m---> 12\u001b[0m     \u001b[38;5;28;01mwith\u001b[39;00m \u001b[38;5;28;43mopen\u001b[39;49m\u001b[43m(\u001b[49m\u001b[43mfile\u001b[49m\u001b[43m,\u001b[49m\u001b[43m \u001b[49m\u001b[38;5;124;43m'\u001b[39;49m\u001b[38;5;124;43mr\u001b[39;49m\u001b[38;5;124;43m'\u001b[39;49m\u001b[43m)\u001b[49m \u001b[38;5;28;01mas\u001b[39;00m pyfile:\n\u001b[1;32m     13\u001b[0m         lines \u001b[38;5;241m=\u001b[39m pyfile\u001b[38;5;241m.\u001b[39mreadlines()\n\u001b[1;32m     14\u001b[0m     top \u001b[38;5;241m=\u001b[39m [\n\u001b[1;32m     15\u001b[0m         \u001b[38;5;124m\"\u001b[39m\u001b[38;5;124mdef main():\u001b[39m\u001b[38;5;130;01m\\n\u001b[39;00m\u001b[38;5;124m\"\u001b[39m\n\u001b[1;32m     16\u001b[0m     ]\n",
      "\u001b[0;31mFileNotFoundError\u001b[0m: [Errno 2] No such file or directory: '../1_preparation/format_inputs.py'"
     ]
    }
   ],
   "source": [
    "parallel_call_notebook('../1_preparation/format_inputs.ipynb',arg_list=[default], **kwargs)"
   ]
  },
  {
   "cell_type": "code",
   "execution_count": 51,
   "metadata": {},
   "outputs": [
    {
     "name": "stderr",
     "output_type": "stream",
     "text": [
      "Traceback (most recent call last):\n",
      "  File \"/home/robitaille/.local/lib/python3.8/site-packages/jsonschema_specifications/_core.py\", line 8, in <module>\n",
      "    from importlib.resources import files\n",
      "ImportError: cannot import name 'files' from 'importlib.resources' (/usr/lib/python3.8/importlib/resources.py)\n",
      "\n",
      "During handling of the above exception, another exception occurred:\n",
      "\n",
      "Traceback (most recent call last):\n",
      "  File \"/home/robitaille/.local/bin/jupyter-nbconvert\", line 5, in <module>\n",
      "    from nbconvert.nbconvertapp import main\n",
      "  File \"/home/robitaille/.local/lib/python3.8/site-packages/nbconvert/nbconvertapp.py\", line 24, in <module>\n",
      "    from nbconvert import __version__, exporters, postprocessors, preprocessors, writers\n",
      "  File \"/home/robitaille/.local/lib/python3.8/site-packages/nbconvert/exporters/__init__.py\", line 1, in <module>\n",
      "    from .asciidoc import ASCIIDocExporter\n",
      "  File \"/home/robitaille/.local/lib/python3.8/site-packages/nbconvert/exporters/asciidoc.py\", line 9, in <module>\n",
      "    from .templateexporter import TemplateExporter\n",
      "  File \"/home/robitaille/.local/lib/python3.8/site-packages/nbconvert/exporters/templateexporter.py\", line 26, in <module>\n",
      "    from nbformat import NotebookNode\n",
      "  File \"/home/robitaille/.local/lib/python3.8/site-packages/nbformat/__init__.py\", line 14, in <module>\n",
      "    from . import v1, v2, v3, v4\n",
      "  File \"/home/robitaille/.local/lib/python3.8/site-packages/nbformat/v4/__init__.py\", line 24, in <module>\n",
      "    from .convert import downgrade, upgrade\n",
      "  File \"/home/robitaille/.local/lib/python3.8/site-packages/nbformat/v4/convert.py\", line 12, in <module>\n",
      "    from nbformat import v3, validator\n",
      "  File \"/home/robitaille/.local/lib/python3.8/site-packages/nbformat/validator.py\", line 16, in <module>\n",
      "    from .json_compat import ValidationError, _validator_for_name, get_current_validator\n",
      "  File \"/home/robitaille/.local/lib/python3.8/site-packages/nbformat/json_compat.py\", line 12, in <module>\n",
      "    import jsonschema\n",
      "  File \"/home/robitaille/.local/lib/python3.8/site-packages/jsonschema/__init__.py\", line 16, in <module>\n",
      "    from jsonschema.validators import (\n",
      "  File \"/home/robitaille/.local/lib/python3.8/site-packages/jsonschema/validators.py\", line 20, in <module>\n",
      "    from jsonschema_specifications import REGISTRY as SPECIFICATIONS\n",
      "  File \"/home/robitaille/.local/lib/python3.8/site-packages/jsonschema_specifications/__init__.py\", line 6, in <module>\n",
      "    from jsonschema_specifications._core import _schemas\n",
      "  File \"/home/robitaille/.local/lib/python3.8/site-packages/jsonschema_specifications/_core.py\", line 10, in <module>\n",
      "    from importlib_resources import (  # type: ignore[import-not-found, no-redef]\n",
      "ModuleNotFoundError: No module named 'importlib_resources'\n"
     ]
    },
    {
     "ename": "FileNotFoundError",
     "evalue": "[Errno 2] No such file or directory: 'B10_network_preparation.py'",
     "output_type": "error",
     "traceback": [
      "\u001b[0;31m---------------------------------------------------------------------------\u001b[0m",
      "\u001b[0;31mFileNotFoundError\u001b[0m                         Traceback (most recent call last)",
      "Cell \u001b[0;32mIn[51], line 1\u001b[0m\n\u001b[0;32m----> 1\u001b[0m \u001b[43mparallel_call_notebook\u001b[49m\u001b[43m(\u001b[49m\u001b[38;5;124;43m'\u001b[39;49m\u001b[38;5;124;43mB10_network_preparation.ipynb\u001b[39;49m\u001b[38;5;124;43m'\u001b[39;49m\u001b[43m,\u001b[49m\u001b[43m \u001b[49m\u001b[43marg_list\u001b[49m\u001b[38;5;241;43m=\u001b[39;49m\u001b[43m[\u001b[49m\u001b[43mdefault\u001b[49m\u001b[43m]\u001b[49m\u001b[43m,\u001b[49m\u001b[43m \u001b[49m\u001b[38;5;241;43m*\u001b[39;49m\u001b[38;5;241;43m*\u001b[39;49m\u001b[43mkwargs\u001b[49m\u001b[43m)\u001b[49m\n",
      "File \u001b[0;32m~/Quetzal/quetzal_classic/notebooks/2_model/../../../quetzal/quetzal/os/parallel_call.py:132\u001b[0m, in \u001b[0;36mparallel_call_notebook\u001b[0;34m(notebook, arg_list, stdout_path, stderr_path, workers, sleep, leave, errout_suffix, freeze_support, return_jobs)\u001b[0m\n\u001b[1;32m    130\u001b[0m file \u001b[38;5;241m=\u001b[39m notebook\u001b[38;5;241m.\u001b[39mreplace(\u001b[38;5;124m'\u001b[39m\u001b[38;5;124m.ipynb\u001b[39m\u001b[38;5;124m'\u001b[39m, \u001b[38;5;124m'\u001b[39m\u001b[38;5;124m.py\u001b[39m\u001b[38;5;124m'\u001b[39m)\n\u001b[1;32m    131\u001b[0m \u001b[38;5;28;01mif\u001b[39;00m freeze_support:\n\u001b[0;32m--> 132\u001b[0m     \u001b[43madd_freeze_support\u001b[49m\u001b[43m(\u001b[49m\u001b[43mfile\u001b[49m\u001b[43m)\u001b[49m\n\u001b[1;32m    134\u001b[0m mode \u001b[38;5;241m=\u001b[39m \u001b[38;5;124m'\u001b[39m\u001b[38;5;124mw\u001b[39m\u001b[38;5;124m'\u001b[39m \u001b[38;5;28;01mif\u001b[39;00m errout_suffix \u001b[38;5;28;01melse\u001b[39;00m \u001b[38;5;124m'\u001b[39m\u001b[38;5;124ma+\u001b[39m\u001b[38;5;124m'\u001b[39m\n\u001b[1;32m    136\u001b[0m supported_characters \u001b[38;5;241m=\u001b[39m string\u001b[38;5;241m.\u001b[39mascii_lowercase \u001b[38;5;241m+\u001b[39m string\u001b[38;5;241m.\u001b[39mascii_uppercase \u001b[38;5;241m+\u001b[39m string\u001b[38;5;241m.\u001b[39mdigits \u001b[38;5;241m+\u001b[39m \u001b[38;5;124m'\u001b[39m\u001b[38;5;124m-_\u001b[39m\u001b[38;5;124m'\u001b[39m \n",
      "File \u001b[0;32m~/Quetzal/quetzal_classic/notebooks/2_model/../../../quetzal/quetzal/os/parallel_call.py:12\u001b[0m, in \u001b[0;36madd_freeze_support\u001b[0;34m(file)\u001b[0m\n\u001b[1;32m     11\u001b[0m \u001b[38;5;28;01mdef\u001b[39;00m \u001b[38;5;21madd_freeze_support\u001b[39m(file):\n\u001b[0;32m---> 12\u001b[0m     \u001b[38;5;28;01mwith\u001b[39;00m \u001b[38;5;28;43mopen\u001b[39;49m\u001b[43m(\u001b[49m\u001b[43mfile\u001b[49m\u001b[43m,\u001b[49m\u001b[43m \u001b[49m\u001b[38;5;124;43m'\u001b[39;49m\u001b[38;5;124;43mr\u001b[39;49m\u001b[38;5;124;43m'\u001b[39;49m\u001b[43m)\u001b[49m \u001b[38;5;28;01mas\u001b[39;00m pyfile:\n\u001b[1;32m     13\u001b[0m         lines \u001b[38;5;241m=\u001b[39m pyfile\u001b[38;5;241m.\u001b[39mreadlines()\n\u001b[1;32m     14\u001b[0m     top \u001b[38;5;241m=\u001b[39m [\n\u001b[1;32m     15\u001b[0m         \u001b[38;5;124m\"\u001b[39m\u001b[38;5;124mdef main():\u001b[39m\u001b[38;5;130;01m\\n\u001b[39;00m\u001b[38;5;124m\"\u001b[39m\n\u001b[1;32m     16\u001b[0m     ]\n",
      "\u001b[0;31mFileNotFoundError\u001b[0m: [Errno 2] No such file or directory: 'B10_network_preparation.py'"
     ]
    }
   ],
   "source": [
    "parallel_call_notebook('B10_network_preparation.ipynb', arg_list=[default], **kwargs)"
   ]
  },
  {
   "cell_type": "code",
   "execution_count": null,
   "metadata": {},
   "outputs": [],
   "source": [
    "parallel_call_notebook('B15_aon_pathfinder.ipynb', arg_list=[default], **kwargs)"
   ]
  },
  {
   "cell_type": "code",
   "execution_count": null,
   "metadata": {},
   "outputs": [],
   "source": [
    "parallel_call_notebook('B20_generation_distribution.ipynb', arg_list=[default], **kwargs)"
   ]
  },
  {
   "cell_type": "code",
   "execution_count": null,
   "metadata": {},
   "outputs": [],
   "source": [
    "parallel_call_notebook('C10_pathfinder.ipynb', arg_list=[default] , **kwargs)"
   ]
  },
  {
   "cell_type": "code",
   "execution_count": null,
   "metadata": {},
   "outputs": [],
   "source": [
    "parallel_call_notebook('C20_logit_assignment.ipynb', arg_list=[default] , **kwargs)"
   ]
  }
 ],
 "metadata": {
  "kernelspec": {
   "display_name": "quetzal_env",
   "language": "python",
   "name": "quetzal_env"
  },
  "language_info": {
   "codemirror_mode": {
    "name": "ipython",
    "version": 3
   },
   "file_extension": ".py",
   "mimetype": "text/x-python",
   "name": "python",
   "nbconvert_exporter": "python",
   "pygments_lexer": "ipython3",
   "version": "3.8.19"
  }
 },
 "nbformat": 4,
 "nbformat_minor": 2
}
