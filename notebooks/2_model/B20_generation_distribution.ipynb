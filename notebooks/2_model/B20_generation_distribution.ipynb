{
 "cells": [
  {
   "cell_type": "code",
   "execution_count": 10,
   "metadata": {},
   "outputs": [
    {
     "name": "stdout",
     "output_type": "stream",
     "text": [
      "{'training_folder': '../../scenarios/atlanta/', 'params': {}}\n"
     ]
    }
   ],
   "source": [
    "import sys\n",
    "import json\n",
    "params = {}\n",
    "default = {'training_folder': '../../scenarios/dallas/', 'params': params} # Default execution parameters\n",
    "manual, argv = (True, default) if 'ipykernel' in sys.argv[0] else (False, dict(default, **json.loads(sys.argv[1])))\n",
    "print(argv)\n"
   ]
  },
  {
   "cell_type": "code",
   "execution_count": 11,
   "metadata": {},
   "outputs": [
    {
     "name": "stdout",
     "output_type": "stream",
     "text": [
      "num cores: 8\n"
     ]
    }
   ],
   "source": [
    "import os\n",
    "import time\n",
    "import geopandas as gpd\n",
    "import pandas as pd\n",
    "sys.path.insert(0, r'../../../quetzal') # Add path to quetzal\n",
    "from sklearn.neighbors import NearestNeighbors\n",
    "from numba import jit, njit\n",
    "import numba as nb\n",
    "from quetzal.model import stepmodel\n",
    "from shapely.geometry import LineString\n",
    "from quetzal.io.gtfs_reader.importer import get_epsg\n",
    "from quetzal.io import excel\n",
    "on_lambda = bool(os.environ.get('AWS_EXECUTION_ENV'))\n",
    "num_cores = nb.config.NUMBA_NUM_THREADS\n",
    "print('num cores:',num_cores)\n",
    "\n",
    "io_engine= 'pyogrio' if on_lambda else 'pyogrio' #or fiona"
   ]
  },
  {
   "cell_type": "code",
   "execution_count": 12,
   "metadata": {},
   "outputs": [],
   "source": [
    "base_folder = argv['training_folder']\n",
    "input_folder = os.path.join(base_folder,'inputs/')\n",
    "pt_folder  = os.path.join(input_folder,'pt/')\n",
    "road_folder = os.path.join(input_folder,'road/')\n",
    "params_folder = input_folder if on_lambda else '../../inputs/'\n",
    "\n",
    "output_folder = os.path.join(base_folder,'outputs/')\n",
    "if not os.path.exists(output_folder):\n",
    "    os.makedirs(output_folder)\n",
    "    \n",
    "model_folder = os.path.join(base_folder, 'model/')\n"
   ]
  },
  {
   "cell_type": "code",
   "execution_count": 13,
   "metadata": {},
   "outputs": [
    {
     "name": "stderr",
     "output_type": "stream",
     "text": [
      "zones: 100%|██████████| 4/4 [00:00<00:00, 28.44it/s]                 \n"
     ]
    }
   ],
   "source": [
    "sm = stepmodel.read_zippedpickles(model_folder +'aon_los')\n"
   ]
  },
  {
   "cell_type": "code",
   "execution_count": 14,
   "metadata": {},
   "outputs": [],
   "source": [
    "var = excel.read_var(file=os.path.join(params_folder,'parameters.xlsx'), scenario='base', return_ancestry=False) \n",
    "\n",
    "motor_rate = var['generation']['motor_rate'] \n",
    "pt_rate = (1-motor_rate)\n"
   ]
  },
  {
   "cell_type": "code",
   "execution_count": 15,
   "metadata": {},
   "outputs": [],
   "source": [
    "pop_mobility = var['generation']['pop_mobility']\n",
    "job_mobility = var['generation']['job_mobility']\n",
    "\n",
    "sm.zones['emission'] =  sm.zones['population'] * pop_mobility \n",
    "sm.zones['attraction'] =  sm.zones['jobs'] \n",
    "\n",
    "car = sm.copy()\n",
    "car.zones['attraction']= car.zones['attraction'] * pop_mobility\n",
    "car.zones['emission'] *= motor_rate  \n",
    "\n",
    "pt_captive = sm.copy()\n",
    "pt_captive.zones['emission']= pt_captive.zones['emission']\n",
    "pt_captive.zones['emission'] *= pt_rate"
   ]
  },
  {
   "cell_type": "code",
   "execution_count": 16,
   "metadata": {},
   "outputs": [],
   "source": [
    "imp_matrix = car.car_los[ \n",
    "    ['origin', 'destination', 'time']\n",
    "].set_index(['origin','destination']).unstack()\n",
    "imp_matrix = imp_matrix.replace(0, var['step_distribution']['time_intrazonal'])\n",
    "\n",
    "car.step_distribution(deterrence_matrix=imp_matrix) "
   ]
  },
  {
   "cell_type": "code",
   "execution_count": 17,
   "metadata": {},
   "outputs": [],
   "source": [
    "imp_matrix = pt_captive.pt_los[ \n",
    "    ['origin', 'destination', 'gtime']\n",
    "].set_index(['origin','destination']).unstack()\n",
    "imp_matrix = imp_matrix.replace(0, var['step_distribution']['time_intrazonal'])"
   ]
  },
  {
   "cell_type": "code",
   "execution_count": 18,
   "metadata": {},
   "outputs": [],
   "source": [
    "pt_captive.step_distribution(deterrence_matrix=imp_matrix)"
   ]
  },
  {
   "cell_type": "code",
   "execution_count": 19,
   "metadata": {},
   "outputs": [],
   "source": [
    "sm.volumes = pd.merge(\n",
    "    car.volumes,\n",
    "    pt_captive.volumes,\n",
    "    on=['origin', 'destination'],\n",
    "    suffixes=[ '_car_owner', '_pt_captive']\n",
    ").rename(columns={'volume_car_owner': 'car_owner', 'volume_pt_captive': 'pt_captive'})\n"
   ]
  },
  {
   "cell_type": "code",
   "execution_count": 20,
   "metadata": {},
   "outputs": [],
   "source": [
    "sm.sample_volumes(bidimentional_sampling=True, fit_sums=True, sample_weight={'car_owner':50, 'pt_captive':50}, sample_size=None, inplace=True)"
   ]
  },
  {
   "cell_type": "code",
   "execution_count": 21,
   "metadata": {},
   "outputs": [],
   "source": [
    "if manual:\n",
    "    \n",
    "    od_folder =  os.path.join(input_folder,'od/')\n",
    "\n",
    "    od = od_folder + 'od.geojson'\n",
    "\n",
    "    od_test = gpd.read_file(od)\n",
    "    if 'name' not in od_test.columns:\n",
    "        od_test['name'] = od_test['index']\n",
    "    od_test['name'] = od_test['name'].fillna(od_test['index'].astype(str))\n",
    "    from shapely.geometry import Point\n",
    "    from syspy.spatial.spatial import nearest, agglomerative_clustering, voronoi_diagram_dataframes, add_geometry_coordinates\n",
    "    od_test['geometry_o'] = od_test['geometry'].apply(lambda g: Point(g.coords[:][0]))\n",
    "    od_test['geometry_d'] = od_test['geometry'].apply(lambda g: Point(g.coords[:][1]))\n",
    "    # find nearest node with KNN. nodes are now the origin and destination.\n",
    "    od_test['geometry'] = od_test['geometry_o']\n",
    "    neigh = nearest(od_test, sm.zones.to_crs(4326), n_neighbors=1).rename(columns={'ix_one': 'zone_index', 'ix_many': 'node_index'})\n",
    "    zone_node_dict = neigh.set_index('zone_index')['node_index'].to_dict()\n",
    "    od_test['origin'] = od_test.index.map(zone_node_dict.get)\n",
    "\n",
    "    od_test['geometry'] = od_test['geometry_d']\n",
    "    neigh = nearest(od_test, sm.zones.to_crs(4326), n_neighbors=1).rename(columns={'ix_one': 'zone_index', 'ix_many': 'node_index'})\n",
    "    zone_node_dict = neigh.set_index('zone_index')['node_index'].to_dict()\n",
    "    od_test['destination'] = od_test.index.map(zone_node_dict.get)\n",
    "\n",
    "    od_test = od_test.drop(columns=['geometry_o','geometry_d','geometry'])\n",
    "    od_test[\"pt_captive\"] = 0.001\n",
    "    #Add od_test to volumes after sparsification\n",
    "    sm.volumes = pd.concat([sm.volumes,od_test[[\"origin\",\"destination\",\"pt_captive\"]]]).sort_values(by=\"pt_captive\",ascending = False).drop_duplicates([\"origin\",\"destination\"])\n",
    "\n",
    "\n",
    "    sm.volumes= pd.concat([sm.volumes,od_test[[\"origin\",\"destination\",\"pt_captive\"]]]).sort_values(by=\"pt_captive\",ascending = False).drop_duplicates([\"origin\",\"destination\"])"
   ]
  },
  {
   "cell_type": "code",
   "execution_count": 22,
   "metadata": {},
   "outputs": [
    {
     "name": "stderr",
     "output_type": "stream",
     "text": [
      "volumes: 100%|██████████| 11/11 [00:00<00:00, 26.49it/s]              \n"
     ]
    }
   ],
   "source": [
    "sm.to_zippedpickles(model_folder +'distribution', only_attributes= ['volumes', 'zone_before_clustering'])\n"
   ]
  },
  {
   "cell_type": "code",
   "execution_count": 23,
   "metadata": {},
   "outputs": [
    {
     "ename": "NameError",
     "evalue": "name 'end_of_notebook' is not defined",
     "output_type": "error",
     "traceback": [
      "\u001b[0;31m---------------------------------------------------------------------------\u001b[0m",
      "\u001b[0;31mNameError\u001b[0m                                 Traceback (most recent call last)",
      "Cell \u001b[0;32mIn[23], line 1\u001b[0m\n\u001b[0;32m----> 1\u001b[0m \u001b[43mend_of_notebook\u001b[49m\n",
      "\u001b[0;31mNameError\u001b[0m: name 'end_of_notebook' is not defined"
     ]
    }
   ],
   "source": [
    "end_of_notebook"
   ]
  }
 ],
 "metadata": {
  "kernelspec": {
   "display_name": "quetzal_env",
   "language": "python",
   "name": "quetzal_env"
  },
  "language_info": {
   "codemirror_mode": {
    "name": "ipython",
    "version": 3
   },
   "file_extension": ".py",
   "mimetype": "text/x-python",
   "name": "python",
   "nbconvert_exporter": "python",
   "pygments_lexer": "ipython3",
   "version": "3.8.19"
  }
 },
 "nbformat": 4,
 "nbformat_minor": 2
}
