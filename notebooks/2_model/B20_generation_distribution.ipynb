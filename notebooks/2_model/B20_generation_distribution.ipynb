{
 "cells": [
  {
   "cell_type": "code",
   "execution_count": 155,
   "metadata": {},
   "outputs": [
    {
     "name": "stdout",
     "output_type": "stream",
     "text": [
      "{'training_folder': '../../scenarios/dallas/', 'params': {}}\n"
     ]
    }
   ],
   "source": [
    "import sys\n",
    "import json\n",
    "params = {}\n",
    "default = {'training_folder': '../../scenarios/dallas/', 'params': params} # Default execution parameters\n",
    "manual, argv = (True, default) if 'ipykernel' in sys.argv[0] else (False, dict(default, **json.loads(sys.argv[1])))\n",
    "print(argv)\n"
   ]
  },
  {
   "cell_type": "code",
   "execution_count": 156,
   "metadata": {},
   "outputs": [
    {
     "name": "stdout",
     "output_type": "stream",
     "text": [
      "num cores: 8\n"
     ]
    }
   ],
   "source": [
    "import os\n",
    "import time\n",
    "import geopandas as gpd\n",
    "import pandas as pd\n",
    "sys.path.insert(0, r'../../../quetzal') # Add path to quetzal\n",
    "from sklearn.neighbors import NearestNeighbors\n",
    "from numba import jit, njit\n",
    "import numba as nb\n",
    "from quetzal.model import stepmodel\n",
    "from shapely.geometry import LineString\n",
    "from quetzal.io.gtfs_reader.importer import get_epsg\n",
    "from quetzal.io import excel\n",
    "on_lambda = bool(os.environ.get('AWS_EXECUTION_ENV'))\n",
    "num_cores = nb.config.NUMBA_NUM_THREADS\n",
    "print('num cores:',num_cores)\n",
    "\n",
    "io_engine= 'pyogrio' if on_lambda else 'pyogrio' #or fiona"
   ]
  },
  {
   "cell_type": "code",
   "execution_count": 157,
   "metadata": {},
   "outputs": [],
   "source": [
    "base_folder = argv['training_folder']\n",
    "input_folder = os.path.join(base_folder,'inputs/')\n",
    "pt_folder  = os.path.join(input_folder,'pt/')\n",
    "road_folder = os.path.join(input_folder,'road/')\n",
    "params_folder = input_folder if on_lambda else '../../inputs/'\n",
    "\n",
    "output_folder = os.path.join(base_folder,'outputs/')\n",
    "if not os.path.exists(output_folder):\n",
    "    os.makedirs(output_folder)\n",
    "    \n",
    "model_folder = os.path.join(base_folder, 'model/')\n"
   ]
  },
  {
   "cell_type": "code",
   "execution_count": 158,
   "metadata": {},
   "outputs": [
    {
     "name": "stderr",
     "output_type": "stream",
     "text": [
      "zones: 100%|██████████| 3/3 [00:00<00:00, 42.41it/s]\n"
     ]
    }
   ],
   "source": [
    "sm = stepmodel.read_zippedpickles(model_folder +'aon_los')\n"
   ]
  },
  {
   "cell_type": "code",
   "execution_count": 159,
   "metadata": {},
   "outputs": [],
   "source": [
    "var = excel.read_var(file=os.path.join(params_folder,'parameters.xlsx'), scenario='base', return_ancestry=False) \n",
    "\n",
    "motor_rate = var['generation']['motor_rate'] \n",
    "pt_rate = (1-motor_rate)\n"
   ]
  },
  {
   "cell_type": "code",
   "execution_count": 161,
   "metadata": {},
   "outputs": [],
   "source": [
    "pop_mobility = var['generation']['pop_mobility']\n",
    "job_mobility = var['generation']['job_mobility']\n",
    "\n",
    "sm.zones['emission'] =  sm.zones['population'] * pop_mobility \n",
    "sm.zones['attraction'] =  sm.zones['jobs'] \n",
    "\n",
    "car = sm.copy()\n",
    "car.zones['attraction']= car.zones['attraction'] * pop_mobility\n",
    "car.zones['emission'] *= motor_rate  \n",
    "\n",
    "pt_captive = sm.copy()\n",
    "pt_captive.zones['emission']= pt_captive.zones['emission']\n",
    "pt_captive.zones['emission'] *= pt_rate"
   ]
  },
  {
   "cell_type": "code",
   "execution_count": 162,
   "metadata": {},
   "outputs": [],
   "source": [
    "imp_matrix = car.car_los[ \n",
    "    ['origin', 'destination', 'time']\n",
    "].set_index(['origin','destination']).unstack()\n",
    "imp_matrix = imp_matrix.replace(0, var['step_distribution']['time_intrazonal'])\n",
    "\n",
    "car.step_distribution(deterrence_matrix=imp_matrix) "
   ]
  },
  {
   "cell_type": "code",
   "execution_count": 164,
   "metadata": {},
   "outputs": [],
   "source": [
    "imp_matrix = pt_captive.pt_los[ \n",
    "    ['origin', 'destination', 'gtime']\n",
    "].set_index(['origin','destination']).unstack()\n",
    "imp_matrix = imp_matrix.replace(0, var['step_distribution']['time_intrazonal'])"
   ]
  },
  {
   "cell_type": "code",
   "execution_count": 166,
   "metadata": {},
   "outputs": [],
   "source": [
    "pt_captive.step_distribution(deterrence_matrix=imp_matrix)"
   ]
  },
  {
   "cell_type": "code",
   "execution_count": 167,
   "metadata": {},
   "outputs": [
    {
     "data": {
      "text/html": [
       "<div>\n",
       "<style scoped>\n",
       "    .dataframe tbody tr th:only-of-type {\n",
       "        vertical-align: middle;\n",
       "    }\n",
       "\n",
       "    .dataframe tbody tr th {\n",
       "        vertical-align: top;\n",
       "    }\n",
       "\n",
       "    .dataframe thead th {\n",
       "        text-align: right;\n",
       "    }\n",
       "</style>\n",
       "<table border=\"1\" class=\"dataframe\">\n",
       "  <thead>\n",
       "    <tr style=\"text-align: right;\">\n",
       "      <th></th>\n",
       "      <th>origin</th>\n",
       "      <th>destination</th>\n",
       "      <th>car_owner</th>\n",
       "      <th>pt_captive</th>\n",
       "    </tr>\n",
       "  </thead>\n",
       "  <tbody>\n",
       "    <tr>\n",
       "      <th>0</th>\n",
       "      <td>zone_0</td>\n",
       "      <td>zone_0</td>\n",
       "      <td>2.433636</td>\n",
       "      <td>0.110165</td>\n",
       "    </tr>\n",
       "    <tr>\n",
       "      <th>1</th>\n",
       "      <td>zone_0</td>\n",
       "      <td>zone_1</td>\n",
       "      <td>26.825508</td>\n",
       "      <td>5.536850</td>\n",
       "    </tr>\n",
       "    <tr>\n",
       "      <th>2</th>\n",
       "      <td>zone_0</td>\n",
       "      <td>zone_2</td>\n",
       "      <td>1.049864</td>\n",
       "      <td>0.333724</td>\n",
       "    </tr>\n",
       "    <tr>\n",
       "      <th>3</th>\n",
       "      <td>zone_0</td>\n",
       "      <td>zone_3</td>\n",
       "      <td>5.697085</td>\n",
       "      <td>1.360695</td>\n",
       "    </tr>\n",
       "    <tr>\n",
       "      <th>4</th>\n",
       "      <td>zone_0</td>\n",
       "      <td>zone_4</td>\n",
       "      <td>9.239890</td>\n",
       "      <td>2.199899</td>\n",
       "    </tr>\n",
       "    <tr>\n",
       "      <th>...</th>\n",
       "      <td>...</td>\n",
       "      <td>...</td>\n",
       "      <td>...</td>\n",
       "      <td>...</td>\n",
       "    </tr>\n",
       "    <tr>\n",
       "      <th>249995</th>\n",
       "      <td>zone_499</td>\n",
       "      <td>zone_495</td>\n",
       "      <td>5.128801</td>\n",
       "      <td>1.162393</td>\n",
       "    </tr>\n",
       "    <tr>\n",
       "      <th>249996</th>\n",
       "      <td>zone_499</td>\n",
       "      <td>zone_496</td>\n",
       "      <td>3.629298</td>\n",
       "      <td>0.727106</td>\n",
       "    </tr>\n",
       "    <tr>\n",
       "      <th>249997</th>\n",
       "      <td>zone_499</td>\n",
       "      <td>zone_497</td>\n",
       "      <td>1.521058</td>\n",
       "      <td>0.364897</td>\n",
       "    </tr>\n",
       "    <tr>\n",
       "      <th>249998</th>\n",
       "      <td>zone_499</td>\n",
       "      <td>zone_498</td>\n",
       "      <td>0.069916</td>\n",
       "      <td>0.017117</td>\n",
       "    </tr>\n",
       "    <tr>\n",
       "      <th>249999</th>\n",
       "      <td>zone_499</td>\n",
       "      <td>zone_499</td>\n",
       "      <td>0.003338</td>\n",
       "      <td>0.000256</td>\n",
       "    </tr>\n",
       "  </tbody>\n",
       "</table>\n",
       "<p>250000 rows × 4 columns</p>\n",
       "</div>"
      ],
      "text/plain": [
       "          origin destination  car_owner  pt_captive\n",
       "0         zone_0      zone_0   2.433636    0.110165\n",
       "1         zone_0      zone_1  26.825508    5.536850\n",
       "2         zone_0      zone_2   1.049864    0.333724\n",
       "3         zone_0      zone_3   5.697085    1.360695\n",
       "4         zone_0      zone_4   9.239890    2.199899\n",
       "...          ...         ...        ...         ...\n",
       "249995  zone_499    zone_495   5.128801    1.162393\n",
       "249996  zone_499    zone_496   3.629298    0.727106\n",
       "249997  zone_499    zone_497   1.521058    0.364897\n",
       "249998  zone_499    zone_498   0.069916    0.017117\n",
       "249999  zone_499    zone_499   0.003338    0.000256\n",
       "\n",
       "[250000 rows x 4 columns]"
      ]
     },
     "execution_count": 167,
     "metadata": {},
     "output_type": "execute_result"
    }
   ],
   "source": [
    "sm.volumes = pd.merge(\n",
    "    car.volumes,\n",
    "    pt_captive.volumes,\n",
    "    on=['origin', 'destination'],\n",
    "    suffixes=[ '_car_owner', '_pt_captive']\n",
    ").rename(columns={'volume_car_owner': 'car_owner', 'volume_pt_captive': 'pt_captive'})\n"
   ]
  },
  {
   "cell_type": "code",
   "execution_count": 169,
   "metadata": {},
   "outputs": [],
   "source": [
    "sm.sample_volumes(bidimentional_sampling=True, fit_sums=True, sample_weight={'car_owner':50, 'pt_captive':50}, sample_size=None, inplace=True)"
   ]
  },
  {
   "cell_type": "code",
   "execution_count": 172,
   "metadata": {},
   "outputs": [],
   "source": [
    "if manual:\n",
    "    \n",
    "    od_folder =  os.path.join(input_folder,'od/')\n",
    "\n",
    "    od = od_folder + 'od.geojson'\n",
    "\n",
    "    od_test = gpd.read_file(od)\n",
    "    if 'name' not in od_test.columns:\n",
    "        od_test['name'] = od_test['index']\n",
    "    od_test['name'] = od_test['name'].fillna(od_test['index'].astype(str))\n",
    "    from shapely.geometry import Point\n",
    "    from syspy.spatial.spatial import nearest, agglomerative_clustering, voronoi_diagram_dataframes, add_geometry_coordinates\n",
    "    od_test['geometry_o'] = od_test['geometry'].apply(lambda g: Point(g.coords[:][0]))\n",
    "    od_test['geometry_d'] = od_test['geometry'].apply(lambda g: Point(g.coords[:][1]))\n",
    "    # find nearest node with KNN. nodes are now the origin and destination.\n",
    "    od_test['geometry'] = od_test['geometry_o']\n",
    "    neigh = nearest(od_test, sm.zones.to_crs(4326), n_neighbors=1).rename(columns={'ix_one': 'zone_index', 'ix_many': 'node_index'})\n",
    "    zone_node_dict = neigh.set_index('zone_index')['node_index'].to_dict()\n",
    "    od_test['origin'] = od_test.index.map(zone_node_dict.get)\n",
    "\n",
    "    od_test['geometry'] = od_test['geometry_d']\n",
    "    neigh = nearest(od_test, sm.zones.to_crs(4326), n_neighbors=1).rename(columns={'ix_one': 'zone_index', 'ix_many': 'node_index'})\n",
    "    zone_node_dict = neigh.set_index('zone_index')['node_index'].to_dict()\n",
    "    od_test['destination'] = od_test.index.map(zone_node_dict.get)\n",
    "\n",
    "    od_test = od_test.drop(columns=['geometry_o','geometry_d','geometry'])\n",
    "    od_test[\"pt_captive\"] = 0.001\n",
    "    #Add od_test to volumes after sparsification\n",
    "    sm.volumes = pd.concat([sm.volumes,od_test[[\"origin\",\"destination\",\"pt_captive\"]]]).sort_values(by=\"pt_captive\",ascending = False).drop_duplicates([\"origin\",\"destination\"])\n",
    "\n",
    "\n",
    "    sm.volumes= pd.concat([sm.volumes,od_test[[\"origin\",\"destination\",\"pt_captive\"]]]).sort_values(by=\"pt_captive\",ascending = False).drop_duplicates([\"origin\",\"destination\"])"
   ]
  },
  {
   "cell_type": "code",
   "execution_count": 175,
   "metadata": {},
   "outputs": [
    {
     "name": "stderr",
     "output_type": "stream",
     "text": [
      "volumes: 100%|██████████| 10/10 [00:00<00:00, 150.86it/s]\n"
     ]
    }
   ],
   "source": [
    "sm.to_zippedpickles(model_folder +'distribution', only_attributes= ['volumes'])\n"
   ]
  },
  {
   "cell_type": "code",
   "execution_count": 176,
   "metadata": {},
   "outputs": [
    {
     "ename": "NameError",
     "evalue": "name 'end_of_notebook' is not defined",
     "output_type": "error",
     "traceback": [
      "\u001b[0;31m---------------------------------------------------------------------------\u001b[0m",
      "\u001b[0;31mNameError\u001b[0m                                 Traceback (most recent call last)",
      "Cell \u001b[0;32mIn[176], line 1\u001b[0m\n\u001b[0;32m----> 1\u001b[0m \u001b[43mend_of_notebook\u001b[49m\n",
      "\u001b[0;31mNameError\u001b[0m: name 'end_of_notebook' is not defined"
     ]
    }
   ],
   "source": [
    "end_of_notebook"
   ]
  }
 ],
 "metadata": {
  "kernelspec": {
   "display_name": "quetzal_env",
   "language": "python",
   "name": "quetzal_env"
  },
  "language_info": {
   "codemirror_mode": {
    "name": "ipython",
    "version": 3
   },
   "file_extension": ".py",
   "mimetype": "text/x-python",
   "name": "python",
   "nbconvert_exporter": "python",
   "pygments_lexer": "ipython3",
   "version": "3.8.19"
  }
 },
 "nbformat": 4,
 "nbformat_minor": 2
}
