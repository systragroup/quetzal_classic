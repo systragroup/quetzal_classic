{
 "cells": [
  {
   "cell_type": "code",
   "execution_count": 12,
   "id": "71ccff01",
   "metadata": {},
   "outputs": [
    {
     "name": "stdout",
     "output_type": "stream",
     "text": [
      "{'training_folder': '../../scenarios/houston/', 'params': {}}\n"
     ]
    }
   ],
   "source": [
    "import sys\n",
    "import json\n",
    "import numpy as np\n",
    "params = {}\n",
    "default = {'training_folder': '../../scenarios/houston/', 'params': params} # Default execution parameters\n",
    "manual, argv = (True, default) if 'ipykernel' in sys.argv[0] else (False, dict(default, **json.loads(sys.argv[1])))\n",
    "print(argv)\n"
   ]
  },
  {
   "cell_type": "code",
   "execution_count": 13,
   "id": "de00e9ba",
   "metadata": {},
   "outputs": [],
   "source": [
    "def set_index(df):\n",
    "    if 'index' in df.columns:\n",
    "        df = df.set_index('index')\n",
    "    else:\n",
    "        df.index.name='index'\n",
    "    return df"
   ]
  },
  {
   "cell_type": "code",
   "execution_count": 14,
   "id": "99b5db61",
   "metadata": {},
   "outputs": [
    {
     "name": "stdout",
     "output_type": "stream",
     "text": [
      "num cores: 8\n"
     ]
    }
   ],
   "source": [
    "import os\n",
    "import time\n",
    "import geopandas as gpd\n",
    "import pandas as pd\n",
    "sys.path.insert(0, r'../../../quetzal') # Add path to quetzal\n",
    "from sklearn.neighbors import NearestNeighbors\n",
    "from numba import jit, njit\n",
    "import numba as nb\n",
    "from quetzal.model import stepmodel\n",
    "from shapely.geometry import LineString\n",
    "from quetzal.io.gtfs_reader.importer import get_epsg\n",
    "from quetzal.io import excel\n",
    "on_lambda = bool(os.environ.get('AWS_EXECUTION_ENV'))\n",
    "num_cores = nb.config.NUMBA_NUM_THREADS\n",
    "print('num cores:',num_cores)\n",
    "\n",
    "io_engine= 'pyogrio' if on_lambda else 'pyogrio' #or fiona"
   ]
  },
  {
   "cell_type": "code",
   "execution_count": 15,
   "id": "505c32e1",
   "metadata": {},
   "outputs": [],
   "source": [
    "base_folder = argv['training_folder']\n",
    "input_folder = os.path.join(base_folder,'inputs/')\n",
    "pt_folder  = os.path.join(input_folder,'pt/')\n",
    "road_folder = os.path.join(input_folder,'road/')\n",
    "od_folder =  os.path.join(input_folder,'od/')\n",
    "params_folder = input_folder if on_lambda else '../../inputs/'\n",
    "\n",
    "output_folder = os.path.join(base_folder,'outputs/')\n",
    "if not os.path.exists(output_folder):\n",
    "    os.makedirs(output_folder)\n",
    "    \n",
    "model_folder = os.path.join(input_folder, 'model/')"
   ]
  },
  {
   "cell_type": "code",
   "execution_count": 16,
   "id": "3dcb24f6",
   "metadata": {},
   "outputs": [],
   "source": [
    "var = excel.read_var(file=os.path.join(params_folder,'parameters.xlsx'), scenario='base', return_ancestry=False)\n",
    "if 'params' in argv.keys():\n",
    "    var.update(pd.DataFrame.from_dict(argv['params'], orient=\"index\").stack())"
   ]
  },
  {
   "cell_type": "markdown",
   "id": "95a65cd0",
   "metadata": {},
   "source": [
    "# inputs"
   ]
  },
  {
   "cell_type": "code",
   "execution_count": 17,
   "id": "d25157cb",
   "metadata": {},
   "outputs": [
    {
     "name": "stderr",
     "output_type": "stream",
     "text": [
      "zones: 100%|██████████| 25/25 [00:01<00:00, 22.88it/s]          \n"
     ]
    }
   ],
   "source": [
    "sm = stepmodel.read_zippedpickles(model_folder + 'network')"
   ]
  },
  {
   "cell_type": "markdown",
   "id": "913245a8",
   "metadata": {},
   "source": [
    "# pathfinder"
   ]
  },
  {
   "cell_type": "code",
   "execution_count": 18,
   "id": "93121fe3",
   "metadata": {},
   "outputs": [
    {
     "name": "stdout",
     "output_type": "stream",
     "text": [
      "start publicpathfinder\n",
      "path_analysis\n"
     ]
    }
   ],
   "source": [
    "sm.step_pt_pathfinder(\n",
    "    broken_routes=False,\n",
    "    broken_modes=False,\n",
    "    keep_pathfinder=True,\n",
    "    mode_column='route_type',\n",
    "    route_column='route_id',\n",
    "    speedup=True,\n",
    "    walk_on_road=True,\n",
    "    path_analysis=False,\n",
    "    od_set= None,\n",
    "    engine='b', # b is faster!\n",
    ")\n"
   ]
  },
  {
   "cell_type": "code",
   "execution_count": 19,
   "id": "b2d8653f",
   "metadata": {},
   "outputs": [
    {
     "name": "stdout",
     "output_type": "stream",
     "text": [
      "self.volumes does not exist. od generated with self.zones\n"
     ]
    }
   ],
   "source": [
    "\n",
    "sm.step_road_pathfinder(method='aon', access_time='time',path_analysis=False)"
   ]
  },
  {
   "cell_type": "code",
   "execution_count": 20,
   "id": "377c92e1",
   "metadata": {},
   "outputs": [
    {
     "data": {
      "text/html": [
       "<div>\n",
       "<style scoped>\n",
       "    .dataframe tbody tr th:only-of-type {\n",
       "        vertical-align: middle;\n",
       "    }\n",
       "\n",
       "    .dataframe tbody tr th {\n",
       "        vertical-align: top;\n",
       "    }\n",
       "\n",
       "    .dataframe thead th {\n",
       "        text-align: right;\n",
       "    }\n",
       "</style>\n",
       "<table border=\"1\" class=\"dataframe\">\n",
       "  <thead>\n",
       "    <tr style=\"text-align: right;\">\n",
       "      <th></th>\n",
       "      <th>origin</th>\n",
       "      <th>destination</th>\n",
       "      <th>gtime</th>\n",
       "      <th>path</th>\n",
       "      <th>pathfinder_session</th>\n",
       "      <th>reversed</th>\n",
       "    </tr>\n",
       "  </thead>\n",
       "  <tbody>\n",
       "    <tr>\n",
       "      <th>0</th>\n",
       "      <td>zone_0</td>\n",
       "      <td>zone_0</td>\n",
       "      <td>0.000000</td>\n",
       "      <td>(zone_0,)</td>\n",
       "      <td>best_path</td>\n",
       "      <td>False</td>\n",
       "    </tr>\n",
       "    <tr>\n",
       "      <th>1</th>\n",
       "      <td>zone_0</td>\n",
       "      <td>zone_1</td>\n",
       "      <td>12078.042640</td>\n",
       "      <td>(zone_0, 1945, link_7313, link_7314, link_7315...</td>\n",
       "      <td>best_path</td>\n",
       "      <td>False</td>\n",
       "    </tr>\n",
       "    <tr>\n",
       "      <th>2</th>\n",
       "      <td>zone_0</td>\n",
       "      <td>zone_10</td>\n",
       "      <td>18365.817067</td>\n",
       "      <td>(zone_0, 1945, link_7313, link_7314, link_7315...</td>\n",
       "      <td>best_path</td>\n",
       "      <td>False</td>\n",
       "    </tr>\n",
       "    <tr>\n",
       "      <th>3</th>\n",
       "      <td>zone_0</td>\n",
       "      <td>zone_100</td>\n",
       "      <td>26982.258048</td>\n",
       "      <td>(zone_0, 1945, link_7313, link_7314, link_7315...</td>\n",
       "      <td>best_path</td>\n",
       "      <td>False</td>\n",
       "    </tr>\n",
       "    <tr>\n",
       "      <th>4</th>\n",
       "      <td>zone_0</td>\n",
       "      <td>zone_101</td>\n",
       "      <td>62526.973599</td>\n",
       "      <td>(zone_0, 1945, link_7313, link_7314, link_7315...</td>\n",
       "      <td>best_path</td>\n",
       "      <td>False</td>\n",
       "    </tr>\n",
       "    <tr>\n",
       "      <th>...</th>\n",
       "      <td>...</td>\n",
       "      <td>...</td>\n",
       "      <td>...</td>\n",
       "      <td>...</td>\n",
       "      <td>...</td>\n",
       "      <td>...</td>\n",
       "    </tr>\n",
       "    <tr>\n",
       "      <th>249995</th>\n",
       "      <td>zone_99</td>\n",
       "      <td>zone_95</td>\n",
       "      <td>31275.236947</td>\n",
       "      <td>(zone_99, road_node_71221, road_node_40999, ro...</td>\n",
       "      <td>best_path</td>\n",
       "      <td>False</td>\n",
       "    </tr>\n",
       "    <tr>\n",
       "      <th>249996</th>\n",
       "      <td>zone_99</td>\n",
       "      <td>zone_96</td>\n",
       "      <td>45581.963748</td>\n",
       "      <td>(zone_99, road_node_5397, road_node_89038, roa...</td>\n",
       "      <td>best_path</td>\n",
       "      <td>False</td>\n",
       "    </tr>\n",
       "    <tr>\n",
       "      <th>249997</th>\n",
       "      <td>zone_99</td>\n",
       "      <td>zone_97</td>\n",
       "      <td>16855.478649</td>\n",
       "      <td>(zone_99, road_node_71221, road_node_40999, ro...</td>\n",
       "      <td>best_path</td>\n",
       "      <td>False</td>\n",
       "    </tr>\n",
       "    <tr>\n",
       "      <th>249998</th>\n",
       "      <td>zone_99</td>\n",
       "      <td>zone_98</td>\n",
       "      <td>90479.638781</td>\n",
       "      <td>(zone_99, road_node_5397, road_node_89038, roa...</td>\n",
       "      <td>best_path</td>\n",
       "      <td>False</td>\n",
       "    </tr>\n",
       "    <tr>\n",
       "      <th>249999</th>\n",
       "      <td>zone_99</td>\n",
       "      <td>zone_99</td>\n",
       "      <td>0.000000</td>\n",
       "      <td>(zone_99,)</td>\n",
       "      <td>best_path</td>\n",
       "      <td>False</td>\n",
       "    </tr>\n",
       "  </tbody>\n",
       "</table>\n",
       "<p>250000 rows × 6 columns</p>\n",
       "</div>"
      ],
      "text/plain": [
       "         origin destination         gtime  \\\n",
       "0        zone_0      zone_0      0.000000   \n",
       "1        zone_0      zone_1  12078.042640   \n",
       "2        zone_0     zone_10  18365.817067   \n",
       "3        zone_0    zone_100  26982.258048   \n",
       "4        zone_0    zone_101  62526.973599   \n",
       "...         ...         ...           ...   \n",
       "249995  zone_99     zone_95  31275.236947   \n",
       "249996  zone_99     zone_96  45581.963748   \n",
       "249997  zone_99     zone_97  16855.478649   \n",
       "249998  zone_99     zone_98  90479.638781   \n",
       "249999  zone_99     zone_99      0.000000   \n",
       "\n",
       "                                                     path pathfinder_session  \\\n",
       "0                                               (zone_0,)          best_path   \n",
       "1       (zone_0, 1945, link_7313, link_7314, link_7315...          best_path   \n",
       "2       (zone_0, 1945, link_7313, link_7314, link_7315...          best_path   \n",
       "3       (zone_0, 1945, link_7313, link_7314, link_7315...          best_path   \n",
       "4       (zone_0, 1945, link_7313, link_7314, link_7315...          best_path   \n",
       "...                                                   ...                ...   \n",
       "249995  (zone_99, road_node_71221, road_node_40999, ro...          best_path   \n",
       "249996  (zone_99, road_node_5397, road_node_89038, roa...          best_path   \n",
       "249997  (zone_99, road_node_71221, road_node_40999, ro...          best_path   \n",
       "249998  (zone_99, road_node_5397, road_node_89038, roa...          best_path   \n",
       "249999                                         (zone_99,)          best_path   \n",
       "\n",
       "        reversed  \n",
       "0          False  \n",
       "1          False  \n",
       "2          False  \n",
       "3          False  \n",
       "4          False  \n",
       "...          ...  \n",
       "249995     False  \n",
       "249996     False  \n",
       "249997     False  \n",
       "249998     False  \n",
       "249999     False  \n",
       "\n",
       "[250000 rows x 6 columns]"
      ]
     },
     "execution_count": 20,
     "metadata": {},
     "output_type": "execute_result"
    }
   ],
   "source": [
    "sm.pt_los"
   ]
  },
  {
   "cell_type": "code",
   "execution_count": 21,
   "id": "62375d2e",
   "metadata": {},
   "outputs": [],
   "source": [
    "sm.car_los.drop('path', axis=1, inplace=True)\n",
    "sm.pt_los.drop('path', axis=1, inplace=True)"
   ]
  },
  {
   "cell_type": "code",
   "execution_count": 22,
   "id": "4f932f73",
   "metadata": {},
   "outputs": [
    {
     "name": "stderr",
     "output_type": "stream",
     "text": [
      "car_los: 100%|██████████| 28/28 [00:00<00:00, 33.01it/s]\n"
     ]
    }
   ],
   "source": [
    "sm.to_zippedpickles(model_folder +'aon_los', only_attributes=['car_los','pt_los','zones'])"
   ]
  }
 ],
 "metadata": {
  "kernelspec": {
   "display_name": "quetzal_env",
   "language": "python",
   "name": "quetzal_env"
  },
  "language_info": {
   "codemirror_mode": {
    "name": "ipython",
    "version": 3
   },
   "file_extension": ".py",
   "mimetype": "text/x-python",
   "name": "python",
   "nbconvert_exporter": "python",
   "pygments_lexer": "ipython3",
   "version": "3.8.19"
  }
 },
 "nbformat": 4,
 "nbformat_minor": 5
}
