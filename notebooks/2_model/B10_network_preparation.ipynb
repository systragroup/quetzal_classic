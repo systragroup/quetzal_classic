{
 "cells": [
  {
   "cell_type": "code",
   "execution_count": 23,
   "id": "71ccff01",
   "metadata": {},
   "outputs": [
    {
     "name": "stdout",
     "output_type": "stream",
     "text": [
      "{'training_folder': '../../scenarios/houston/', 'params': {}}\n"
     ]
    }
   ],
   "source": [
    "import sys\n",
    "import json\n",
    "params = {}\n",
    "default = {'training_folder': '../../scenarios/houston/', 'params': params} # Default execution parameters\n",
    "manual, argv = (True, default) if 'ipykernel' in sys.argv[0] else (False, dict(default, **json.loads(sys.argv[1])))\n",
    "print(argv)\n"
   ]
  },
  {
   "cell_type": "code",
   "execution_count": 24,
   "id": "de00e9ba",
   "metadata": {},
   "outputs": [],
   "source": [
    "def get_filepath(path,filename):\n",
    "    '''\n",
    "    get filePath cas insensitive (ex: read demand.csv but file is name DEMAND.csv)\n",
    "    path:'path/ ex: '../../scenarios/base/inputs/'\n",
    "    filename: ex: demand.csv\n",
    "    '''\n",
    "    files = os.listdir(path)\n",
    "    file = [file for file in files if filename.lower() == file.lower()]\n",
    "    if len(file)==0:\n",
    "        print(f'{path+filename} does not exist')\n",
    "        return path+filename\n",
    "    return path+file[0]"
   ]
  },
  {
   "cell_type": "code",
   "execution_count": 61,
   "id": "99b5db61",
   "metadata": {},
   "outputs": [
    {
     "name": "stdout",
     "output_type": "stream",
     "text": [
      "num cores: 8\n"
     ]
    }
   ],
   "source": [
    "import os\n",
    "import time\n",
    "import geopandas as gpd\n",
    "import pandas as pd\n",
    "sys.path.insert(0, r'../../../quetzal') # Add path to quetzal\n",
    "from sklearn.neighbors import NearestNeighbors\n",
    "from numba import jit, njit\n",
    "import numba as nb\n",
    "from quetzal.model import stepmodel\n",
    "from shapely.geometry import LineString\n",
    "from quetzal.io.gtfs_reader.importer import get_epsg\n",
    "from quetzal.io import excel\n",
    "on_lambda = bool(os.environ.get('AWS_EXECUTION_ENV'))\n",
    "num_cores = nb.config.NUMBA_NUM_THREADS\n",
    "print('num cores:',num_cores)\n",
    "\n",
    "io_engine= 'pyogrio' if on_lambda else 'pyogrio' #or fiona"
   ]
  },
  {
   "cell_type": "code",
   "execution_count": 26,
   "id": "505c32e1",
   "metadata": {},
   "outputs": [],
   "source": [
    "base_folder = argv['training_folder']\n",
    "input_folder = os.path.join(base_folder,'inputs/')\n",
    "pt_folder  = os.path.join(input_folder,'pt/')\n",
    "road_folder = os.path.join(input_folder,'road/')\n",
    "od_folder =  os.path.join(input_folder,'od/')\n",
    "params_folder = input_folder if on_lambda else '../../inputs/'\n",
    "\n",
    "output_folder = os.path.join(base_folder,'outputs/')\n",
    "if not os.path.exists(output_folder):\n",
    "    os.makedirs(output_folder)\n",
    "    \n",
    "model_folder = os.path.join(input_folder, 'model/')\n"
   ]
  },
  {
   "cell_type": "code",
   "execution_count": 67,
   "id": "3dcb24f6",
   "metadata": {},
   "outputs": [],
   "source": [
    "var = excel.read_var(file=os.path.join(params_folder,'parameters.xlsx'), scenario='base', return_ancestry=False)\n",
    "if 'params' in argv.keys():\n",
    "    var.update(pd.DataFrame.from_dict(argv['params'], orient=\"index\").stack())"
   ]
  },
  {
   "cell_type": "code",
   "execution_count": null,
   "id": "f1dd746b",
   "metadata": {},
   "outputs": [],
   "source": []
  },
  {
   "cell_type": "markdown",
   "id": "95a65cd0",
   "metadata": {},
   "source": [
    "# inputs"
   ]
  },
  {
   "cell_type": "code",
   "execution_count": 42,
   "id": "541512a4",
   "metadata": {},
   "outputs": [],
   "source": [
    "links = gpd.read_file(pt_folder + 'links.geojson', engine=io_engine) \n",
    "nodes = gpd.read_file(pt_folder + 'nodes.geojson', engine=io_engine)\n",
    "links = links.set_index('index')\n",
    "nodes = nodes.set_index('index')"
   ]
  },
  {
   "cell_type": "code",
   "execution_count": 43,
   "id": "c83130ae",
   "metadata": {},
   "outputs": [],
   "source": [
    "rnodes = gpd.read_file(road_folder + 'road_nodes.geojson', engine=io_engine)\n",
    "rnodes = rnodes.set_index('index')\n",
    "rlinks = gpd.read_file(road_folder + 'road_links.geojson', engine=io_engine)\n",
    "rlinks = rlinks.set_index('index')"
   ]
  },
  {
   "cell_type": "code",
   "execution_count": 44,
   "id": "e6e538c0",
   "metadata": {},
   "outputs": [],
   "source": [
    "filepath = get_filepath(input_folder,'zones.geojson')\n",
    "zones = gpd.read_file(filepath)\n",
    "zones = zones.set_index('index')"
   ]
  },
  {
   "cell_type": "markdown",
   "id": "843cc7e6",
   "metadata": {},
   "source": [
    "# split quenedi road links\n"
   ]
  },
  {
   "cell_type": "code",
   "execution_count": 45,
   "id": "92829296",
   "metadata": {},
   "outputs": [],
   "source": [
    "from quetzal.engine.road_model import RoadModel, _reverse_geom\n",
    "\n",
    "self = RoadModel(rlinks,rnodes,zones,ff_time_col='time')\n",
    "self.split_quenedi_rlinks()\n",
    "rlinks = self.road_links\n",
    "\n",
    "del self"
   ]
  },
  {
   "cell_type": "code",
   "execution_count": null,
   "id": "45c4056a",
   "metadata": {},
   "outputs": [],
   "source": []
  },
  {
   "cell_type": "markdown",
   "id": "3b2e625d",
   "metadata": {},
   "source": [
    "# create Model"
   ]
  },
  {
   "cell_type": "code",
   "execution_count": null,
   "id": "23ed02bb",
   "metadata": {},
   "outputs": [],
   "source": []
  },
  {
   "cell_type": "code",
   "execution_count": 46,
   "id": "9c80101f",
   "metadata": {},
   "outputs": [],
   "source": [
    "sm = stepmodel.StepModel(epsg=4326)\n",
    "sm.links = links\n",
    "sm.nodes = nodes\n",
    "sm.road_links = rlinks\n",
    "sm.road_nodes = rnodes\n",
    "sm.zones = zones"
   ]
  },
  {
   "cell_type": "code",
   "execution_count": 47,
   "id": "619b4641",
   "metadata": {},
   "outputs": [
    {
     "data": {
      "text/plain": [
       "32615"
      ]
     },
     "execution_count": 47,
     "metadata": {},
     "output_type": "execute_result"
    }
   ],
   "source": [
    "centroid = [*LineString(sm.nodes.centroid.values).centroid.coords][0]\n",
    "crs = get_epsg(centroid[1],centroid[0])\n",
    "crs"
   ]
  },
  {
   "cell_type": "code",
   "execution_count": 48,
   "id": "7e4fc772",
   "metadata": {},
   "outputs": [
    {
     "name": "stderr",
     "output_type": "stream",
     "text": [
      "Reprojecting model from epsg 4326 to epsg 32615: 100%|█| 11/11 [00:05<00:00,  2.\n"
     ]
    }
   ],
   "source": [
    "sm = sm.change_epsg(crs,'meter')"
   ]
  },
  {
   "cell_type": "markdown",
   "id": "113e42b5",
   "metadata": {},
   "source": [
    "# clustering and walkmodel"
   ]
  },
  {
   "cell_type": "code",
   "execution_count": 49,
   "id": "3ad80bdd",
   "metadata": {},
   "outputs": [],
   "source": [
    "sm.preparation_clusterize_nodes(distance_threshold=200)\n"
   ]
  },
  {
   "cell_type": "code",
   "execution_count": 50,
   "id": "31907382",
   "metadata": {},
   "outputs": [],
   "source": [
    "#sm._add_type_prefixes({'nodes': 'node_','links':'link_','road_nodes':'road_node','road_links':'road_link_','zones':'zone_'})\n",
    "sm._add_type_prefixes({'zones':'zone_'})"
   ]
  },
  {
   "cell_type": "code",
   "execution_count": 51,
   "id": "7ad61146",
   "metadata": {},
   "outputs": [],
   "source": [
    "sm.road_links['walk_time'] = sm.road_links['length'] / var['footpaths']['wor_speed'] * 3.6\n"
   ]
  },
  {
   "cell_type": "code",
   "execution_count": 52,
   "id": "b898bfb7",
   "metadata": {},
   "outputs": [],
   "source": [
    "sm.preparation_footpaths(max_length=var['footpaths']['max_length'],\n",
    "                         speed=var['footpaths']['speed'])\n"
   ]
  },
  {
   "cell_type": "code",
   "execution_count": 53,
   "id": "8547d6b9",
   "metadata": {},
   "outputs": [],
   "source": [
    "# Zone to transit\n",
    "sm.preparation_ntlegs(\n",
    "    short_leg_speed = var['zone_to_transit']['speed'],\n",
    "    long_leg_speed = var['zone_to_transit']['speed'], # tout le monde marche\n",
    "    threshold = 1000,\n",
    "    zone_to_transit = True,\n",
    "    zone_to_road = True,\n",
    "    road_to_transit = True,\n",
    "    n_ntlegs = var['zone_to_transit']['nbr'],\n",
    "    max_ntleg_length = var['zone_to_transit']['max_length'],\n",
    ")\n",
    "sm._add_type_prefixes({'zone_to_transit':'ztt_'})"
   ]
  },
  {
   "cell_type": "code",
   "execution_count": 54,
   "id": "1dddcaeb",
   "metadata": {},
   "outputs": [
    {
     "name": "stdout",
     "output_type": "stream",
     "text": [
      "failed: integrity_test_circular_lines\n",
      "passed: integrity_test_collision\n"
     ]
    },
    {
     "name": "stderr",
     "output_type": "stream",
     "text": [
      "47435it [00:00, 70006.92it/s]\n"
     ]
    },
    {
     "name": "stdout",
     "output_type": "stream",
     "text": [
      "passed: integrity_test_dead_ends\n",
      "passed: integrity_test_duplicate_volumes\n",
      "passed: integrity_test_isolated_roads\n",
      "passed: integrity_test_nodeset_consistency\n",
      "failed: integrity_test_road_duplicated_ab_links\n"
     ]
    },
    {
     "name": "stderr",
     "output_type": "stream",
     "text": [
      "47435it [00:02, 16487.30it/s]\n"
     ]
    },
    {
     "name": "stdout",
     "output_type": "stream",
     "text": [
      "failed: integrity_test_road_network\n",
      "passed: integrity_test_road_nodeset_consistency\n",
      "passed: integrity_test_sequences\n",
      "passed: integrity_test_str_collision\n"
     ]
    }
   ],
   "source": [
    "sm.integrity_test_all(errors='ignore', verbose=True)"
   ]
  },
  {
   "cell_type": "code",
   "execution_count": 81,
   "id": "dcfa6559",
   "metadata": {},
   "outputs": [],
   "source": [
    "sm.road_links['dup'] = sm.road_links['a'] + sm.road_links['b']\n",
    "sm.road_links = sm.road_links.drop_duplicates('dup').drop(columns=['dup'])"
   ]
  },
  {
   "cell_type": "code",
   "execution_count": null,
   "id": "f6b8d448",
   "metadata": {},
   "outputs": [],
   "source": []
  },
  {
   "cell_type": "code",
   "execution_count": 82,
   "id": "f87c58de",
   "metadata": {},
   "outputs": [
    {
     "name": "stderr",
     "output_type": "stream",
     "text": [
      "broken_sequences: 100%|█████████████████████████| 25/25 [00:04<00:00,  6.01it/s]\n"
     ]
    }
   ],
   "source": [
    "if not os.path.exists(model_folder):\n",
    "    os.makedirs(model_folder)\n",
    "\n",
    "sm.to_zippedpickles(model_folder +'network')  "
   ]
  },
  {
   "cell_type": "code",
   "execution_count": null,
   "id": "cf5e39d6",
   "metadata": {
    "scrolled": true
   },
   "outputs": [],
   "source": []
  },
  {
   "cell_type": "code",
   "execution_count": null,
   "id": "e83e0ac3",
   "metadata": {},
   "outputs": [],
   "source": []
  }
 ],
 "metadata": {
  "kernelspec": {
   "display_name": "quetzal_env",
   "language": "python",
   "name": "quetzal_env"
  },
  "language_info": {
   "codemirror_mode": {
    "name": "ipython",
    "version": 3
   },
   "file_extension": ".py",
   "mimetype": "text/x-python",
   "name": "python",
   "nbconvert_exporter": "python",
   "pygments_lexer": "ipython3",
   "version": "3.8.6"
  }
 },
 "nbformat": 4,
 "nbformat_minor": 5
}
