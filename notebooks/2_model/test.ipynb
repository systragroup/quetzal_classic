{
 "cells": [
  {
   "cell_type": "code",
   "execution_count": 1,
   "id": "e14a456c",
   "metadata": {},
   "outputs": [
    {
     "name": "stdout",
     "output_type": "stream",
     "text": [
      "{'training_folder': '../../scenarios/base', 'params': {'general': {'bus': '500', 'subway': '800', 'rail': '1000'}}}\n"
     ]
    }
   ],
   "source": [
    "import sys\n",
    "import json\n",
    "\n",
    "catchment_radius={'bus':'500','subway':'800','rail':'1000'}\n",
    "params = {'general':catchment_radius}\n",
    "\n",
    "default = {'training_folder': '../../scenarios/base', 'params':params} # Default execution parameters\n",
    "manual, argv = (True, default) if 'ipykernel' in sys.argv[0] else (False, dict(default, **json.loads(sys.argv[1])))\n",
    "print(argv)\n"
   ]
  },
  {
   "cell_type": "code",
   "execution_count": 2,
   "id": "1b19938d",
   "metadata": {},
   "outputs": [],
   "source": [
    "import os\n",
    "import time\n",
    "import geopandas as gpd\n",
    "import pandas as pd\n",
    "sys.path.insert(0, r'../../../quetzal') # Add path to quetzal\n",
    "import numpy as np\n",
    "from typing import Literal\n",
    "\n",
    "on_lambda = bool(os.environ.get('AWS_EXECUTION_ENV'))\n",
    "io_engine = 'pyogrio' if on_lambda else 'pyogrio' #or fiona"
   ]
  },
  {
   "cell_type": "markdown",
   "id": "4615e318",
   "metadata": {},
   "source": [
    "# Folder and parameters"
   ]
  },
  {
   "cell_type": "code",
   "execution_count": 3,
   "id": "163eeb42",
   "metadata": {},
   "outputs": [],
   "source": [
    "base_folder = argv['training_folder']\n",
    "input_folder = os.path.join(base_folder,'inputs/')\n",
    "pt_folder  = os.path.join(input_folder,'pt/')\n",
    "road_folder = os.path.join(input_folder,'road/')\n",
    "od_folder =  os.path.join(input_folder,'od/')\n",
    "\n",
    "output_folder = os.path.join(base_folder,'outputs/')\n",
    "if not os.path.exists(output_folder):\n",
    "    os.makedirs(output_folder)\n",
    "    \n",
    "model_folder = os.path.join(input_folder, 'model/')\n"
   ]
  },
  {
   "cell_type": "code",
   "execution_count": 4,
   "id": "342a2cc0",
   "metadata": {},
   "outputs": [
    {
     "data": {
      "text/plain": [
       "{'bus': 500.0, 'subway': 800.0, 'rail': 1000.0}"
      ]
     },
     "execution_count": 4,
     "metadata": {},
     "output_type": "execute_result"
    }
   ],
   "source": [
    "# Quenedi Parameters are in sended to argv['params']\n",
    "catchment_radius = argv['params' ]['general']\n",
    "catchment_radius = {k:float(v) for k,v in catchment_radius.items()}\n",
    "default_catchment_radius = 500\n",
    "catchment_radius"
   ]
  },
  {
   "cell_type": "markdown",
   "id": "1b3e984b",
   "metadata": {},
   "source": [
    "# Inputs"
   ]
  },
  {
   "cell_type": "code",
   "execution_count": 5,
   "id": "0bf9984e",
   "metadata": {},
   "outputs": [],
   "source": [
    "links = gpd.read_file(os.path.join(pt_folder, 'links.geojson'), engine=io_engine) \n",
    "nodes = gpd.read_file(os.path.join(pt_folder, 'nodes.geojson'), engine=io_engine)\n",
    "links = links.set_index('index')\n",
    "nodes = nodes.set_index('index')"
   ]
  },
  {
   "cell_type": "code",
   "execution_count": null,
   "id": "eb4b4ff3",
   "metadata": {},
   "outputs": [],
   "source": []
  },
  {
   "cell_type": "markdown",
   "id": "81abc31f",
   "metadata": {},
   "source": [
    "# Outputs"
   ]
  },
  {
   "cell_type": "code",
   "execution_count": 6,
   "id": "9dd3153a",
   "metadata": {},
   "outputs": [],
   "source": [
    "links.to_file(output_folder + 'links.geojson',driver='GeoJSON', engine=io_engine)"
   ]
  },
  {
   "cell_type": "code",
   "execution_count": null,
   "id": "900019df",
   "metadata": {},
   "outputs": [],
   "source": []
  }
 ],
 "metadata": {
  "kernelspec": {
   "display_name": "quetzal_env",
   "language": "python",
   "name": "quetzal_env"
  },
  "language_info": {
   "codemirror_mode": {
    "name": "ipython",
    "version": 3
   },
   "file_extension": ".py",
   "mimetype": "text/x-python",
   "name": "python",
   "nbconvert_exporter": "python",
   "pygments_lexer": "ipython3",
   "version": "3.8.6"
  }
 },
 "nbformat": 4,
 "nbformat_minor": 5
}
