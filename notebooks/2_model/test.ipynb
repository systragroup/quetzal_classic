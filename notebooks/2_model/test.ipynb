{
 "cells": [
  {
   "cell_type": "code",
   "execution_count": 62,
   "id": "e14a456c",
   "metadata": {},
   "outputs": [
    {
     "name": "stdout",
     "output_type": "stream",
     "text": [
      "{'training_folder': '../../scenarios/houston', 'params': {'general': {'bus': '500', 'subway': '800', 'rail': '1000'}}}\n"
     ]
    }
   ],
   "source": [
    "import sys\n",
    "import json\n",
    "\n",
    "catchment_radius={'bus':'500','subway':'800','rail':'1000'}\n",
    "params = {'general':catchment_radius}\n",
    "\n",
    "default = {'training_folder': '../../scenarios/houston', 'params':params} # Default execution parameters\n",
    "manual, argv = (True, default) if 'ipykernel' in sys.argv[0] else (False, dict(default, **json.loads(sys.argv[1])))\n",
    "print(argv)\n"
   ]
  },
  {
   "cell_type": "code",
   "execution_count": 63,
   "id": "1b19938d",
   "metadata": {},
   "outputs": [],
   "source": [
    "import os\n",
    "import time\n",
    "import geopandas as gpd\n",
    "import pandas as pd\n",
    "sys.path.insert(0, r'../../../quetzal') # Add path to quetzal\n",
    "import numpy as np\n",
    "from typing import Literal\n",
    "\n",
    "on_lambda = bool(os.environ.get('AWS_EXECUTION_ENV'))\n",
    "io_engine = 'pyogrio' if on_lambda else 'pyogrio' #or fiona"
   ]
  },
  {
   "cell_type": "code",
   "execution_count": 64,
   "id": "75dfd6dc",
   "metadata": {},
   "outputs": [],
   "source": [
    "from shapely.geometry import Point, LineString\n",
    "# from quetzal_cyclops\n",
    "def get_epsg(lat: float, lon: float) -> int:\n",
    "    '''\n",
    "    lat, lon or y, x\n",
    "    return EPSG in meter for a given (lat,lon)\n",
    "    lat is north south \n",
    "    lon is est west\n",
    "    '''\n",
    "    return int(32700 - round((45 + lat) / 90, 0) * 100 + round((183 + lon) / 6, 0))"
   ]
  },
  {
   "cell_type": "code",
   "execution_count": null,
   "id": "ff3d3e62",
   "metadata": {},
   "outputs": [],
   "source": []
  },
  {
   "cell_type": "markdown",
   "id": "4615e318",
   "metadata": {},
   "source": [
    "# Folder and parameters"
   ]
  },
  {
   "cell_type": "code",
   "execution_count": 65,
   "id": "163eeb42",
   "metadata": {},
   "outputs": [],
   "source": [
    "base_folder = argv['training_folder']\n",
    "input_folder = os.path.join(base_folder,'inputs/')\n",
    "pt_folder  = os.path.join(input_folder,'pt/')\n",
    "road_folder = os.path.join(input_folder,'road/')\n",
    "od_folder =  os.path.join(input_folder,'od/')\n",
    "\n",
    "output_folder = os.path.join(base_folder,'outputs/')\n",
    "if not os.path.exists(output_folder):\n",
    "    os.makedirs(output_folder)\n",
    "    \n",
    "model_folder = os.path.join(input_folder, 'model/')\n"
   ]
  },
  {
   "cell_type": "code",
   "execution_count": 66,
   "id": "342a2cc0",
   "metadata": {},
   "outputs": [
    {
     "data": {
      "text/plain": [
       "{'bus': 500.0, 'subway': 800.0, 'rail': 1000.0}"
      ]
     },
     "execution_count": 66,
     "metadata": {},
     "output_type": "execute_result"
    }
   ],
   "source": [
    "# Quenedi Parameters are in sended to argv['params']\n",
    "catchment_radius = argv['params' ]['general']\n",
    "catchment_radius = {k:float(v) for k,v in catchment_radius.items()}\n",
    "default_catchment_radius = 500\n",
    "catchment_radius"
   ]
  },
  {
   "cell_type": "markdown",
   "id": "1b3e984b",
   "metadata": {},
   "source": [
    "# Inputs (networks)"
   ]
  },
  {
   "cell_type": "code",
   "execution_count": 67,
   "id": "0bf9984e",
   "metadata": {},
   "outputs": [],
   "source": [
    "links = gpd.read_file(os.path.join(pt_folder, 'links.geojson'), engine=io_engine) \n",
    "nodes = gpd.read_file(os.path.join(pt_folder, 'nodes.geojson'), engine=io_engine)\n",
    "links = links.set_index('index')\n",
    "nodes = nodes.set_index('index')"
   ]
  },
  {
   "cell_type": "code",
   "execution_count": 68,
   "id": "eb4b4ff3",
   "metadata": {},
   "outputs": [
    {
     "name": "stderr",
     "output_type": "stream",
     "text": [
      "/tmp/ipykernel_26427/550055817.py:2: UserWarning: Geometry is in a geographic CRS. Results from 'centroid' are likely incorrect. Use 'GeoSeries.to_crs()' to re-project geometries to a projected CRS before this operation.\n",
      "\n",
      "  centroid = [*LineString(nodes.centroid.values).centroid.coords][0]\n"
     ]
    },
    {
     "data": {
      "text/plain": [
       "32615"
      ]
     },
     "execution_count": 68,
     "metadata": {},
     "output_type": "execute_result"
    }
   ],
   "source": [
    "# find meters CRS\n",
    "centroid = [*LineString(nodes.centroid.values).centroid.coords][0]\n",
    "crs = get_epsg(centroid[1],centroid[0])\n",
    "crs"
   ]
  },
  {
   "cell_type": "markdown",
   "id": "56481d24",
   "metadata": {},
   "source": [
    "# inputs (zones)"
   ]
  },
  {
   "cell_type": "code",
   "execution_count": 69,
   "id": "48576d69",
   "metadata": {},
   "outputs": [
    {
     "name": "stdout",
     "output_type": "stream",
     "text": [
      "zones? True\n"
     ]
    }
   ],
   "source": [
    "zones_file = os.path.join(input_folder, 'zones.geojson')\n",
    "zones_file_provided = os.path.isfile(zones_file)\n",
    "if zones_file_provided :\n",
    "    zones = gpd.read_file(zones_file, engine=io_engine)\n",
    "    if 'index' in zones.columns:\n",
    "        zones = zones.set_index('index')\n",
    "    else:\n",
    "        zones.index.name='index'\n",
    "    assert 'density' in zones.columns, 'need density column. in km2'\n",
    "    assert zones.crs == 4326, 'population.geojson CRS must be EPSG:4326'\n",
    "print('zones?',zones_file_provided)"
   ]
  },
  {
   "cell_type": "code",
   "execution_count": 70,
   "id": "aed47a00",
   "metadata": {},
   "outputs": [
    {
     "name": "stdout",
     "output_type": "stream",
     "text": [
      "7212861.251305611\n"
     ]
    }
   ],
   "source": [
    "if zones_file_provided : \n",
    "    zones['area (km2)'] = zones.to_crs(crs).area*1e-6\n",
    "    zones['area (km2)'].sum()\n",
    "    zones['population'] = zones['density']*zones['area (km2)']\n",
    "    print(zones['population'].sum())"
   ]
  },
  {
   "cell_type": "code",
   "execution_count": null,
   "id": "d8b7c687",
   "metadata": {},
   "outputs": [],
   "source": []
  },
  {
   "cell_type": "code",
   "execution_count": null,
   "id": "60d241b9",
   "metadata": {},
   "outputs": [],
   "source": []
  },
  {
   "cell_type": "code",
   "execution_count": null,
   "id": "834de4ac",
   "metadata": {},
   "outputs": [],
   "source": []
  },
  {
   "cell_type": "code",
   "execution_count": null,
   "id": "3c3cdc50",
   "metadata": {},
   "outputs": [],
   "source": []
  },
  {
   "cell_type": "code",
   "execution_count": null,
   "id": "4d23b986",
   "metadata": {},
   "outputs": [],
   "source": []
  },
  {
   "cell_type": "markdown",
   "id": "81abc31f",
   "metadata": {},
   "source": [
    "# Outputs"
   ]
  },
  {
   "cell_type": "code",
   "execution_count": 6,
   "id": "9dd3153a",
   "metadata": {},
   "outputs": [],
   "source": [
    "#links.to_file(output_folder + 'links.geojson',driver='GeoJSON', engine=io_engine)"
   ]
  },
  {
   "cell_type": "code",
   "execution_count": null,
   "id": "900019df",
   "metadata": {},
   "outputs": [],
   "source": []
  }
 ],
 "metadata": {
  "kernelspec": {
   "display_name": "quetzal_env",
   "language": "python",
   "name": "quetzal_env"
  },
  "language_info": {
   "codemirror_mode": {
    "name": "ipython",
    "version": 3
   },
   "file_extension": ".py",
   "mimetype": "text/x-python",
   "name": "python",
   "nbconvert_exporter": "python",
   "pygments_lexer": "ipython3",
   "version": "3.8.6"
  }
 },
 "nbformat": 4,
 "nbformat_minor": 5
}
