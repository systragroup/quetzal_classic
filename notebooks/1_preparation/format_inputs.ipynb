{
 "cells": [
  {
   "cell_type": "code",
   "execution_count": 18,
   "id": "190c72ea",
   "metadata": {},
   "outputs": [
    {
     "name": "stdout",
     "output_type": "stream",
     "text": [
      "{'training_folder': '../../'}\n"
     ]
    }
   ],
   "source": [
    "import sys\n",
    "import json\n",
    "default = {'training_folder': '../../'} # Default execution parameters\n",
    "manual, argv = (True, default) if 'ipykernel' in sys.argv[0] else (False, dict(default, **json.loads(sys.argv[1])))\n",
    "print(argv)\n"
   ]
  },
  {
   "cell_type": "code",
   "execution_count": 19,
   "id": "dde0ed6f",
   "metadata": {},
   "outputs": [],
   "source": [
    "import os\n",
    "import time\n",
    "import geopandas as gpd\n",
    "import pandas as pd\n",
    "sys.path.insert(0, r'../../../quetzal') # Add path to quetzal\n",
    "import numpy as np\n",
    "from typing import Literal\n",
    "\n",
    "on_lambda = bool(os.environ.get('AWS_EXECUTION_ENV'))\n",
    "io_engine = 'pyogrio' if on_lambda else 'pyogrio' #or fiona"
   ]
  },
  {
   "cell_type": "code",
   "execution_count": 20,
   "id": "6ca68b14",
   "metadata": {},
   "outputs": [],
   "source": [
    "base_folder = argv['training_folder']"
   ]
  },
  {
   "cell_type": "code",
   "execution_count": 21,
   "id": "a3d7a646",
   "metadata": {},
   "outputs": [],
   "source": [
    "name = 'Houston_CT'\n",
    "zones = gpd.read_file(os.path.join(base_folder,'inputs/zones', name+'.geojson'), engine=io_engine)  \n"
   ]
  },
  {
   "cell_type": "code",
   "execution_count": 22,
   "id": "ac203288",
   "metadata": {},
   "outputs": [],
   "source": [
    "zones = zones.set_index('OBJECTID')\n",
    "zones.index.name = 'index'"
   ]
  },
  {
   "cell_type": "code",
   "execution_count": 23,
   "id": "ec0e6543",
   "metadata": {},
   "outputs": [],
   "source": [
    "zones = zones.to_crs(4326)"
   ]
  },
  {
   "cell_type": "code",
   "execution_count": 24,
   "id": "547335a5",
   "metadata": {},
   "outputs": [
    {
     "data": {
      "text/plain": [
       "index\n",
       "1       Austin County\n",
       "2       Austin County\n",
       "3       Austin County\n",
       "4       Austin County\n",
       "5       Austin County\n",
       "            ...      \n",
       "1607    Waller County\n",
       "1608    Waller County\n",
       "1609    Waller County\n",
       "1610    Waller County\n",
       "1611    Waller County\n",
       "Name: County, Length: 1611, dtype: object"
      ]
     },
     "execution_count": 24,
     "metadata": {},
     "output_type": "execute_result"
    }
   ],
   "source": [
    "zones['County']"
   ]
  },
  {
   "cell_type": "code",
   "execution_count": 25,
   "id": "67d97465",
   "metadata": {},
   "outputs": [
    {
     "data": {
      "text/html": [
       "<div>\n",
       "<style scoped>\n",
       "    .dataframe tbody tr th:only-of-type {\n",
       "        vertical-align: middle;\n",
       "    }\n",
       "\n",
       "    .dataframe tbody tr th {\n",
       "        vertical-align: top;\n",
       "    }\n",
       "\n",
       "    .dataframe thead th {\n",
       "        text-align: right;\n",
       "    }\n",
       "</style>\n",
       "<table border=\"1\" class=\"dataframe\">\n",
       "  <thead>\n",
       "    <tr style=\"text-align: right;\">\n",
       "      <th></th>\n",
       "      <th>P001_calc_pctPopDensity</th>\n",
       "      <th>P012_calc_pctWork</th>\n",
       "      <th>P012_calc_numWork</th>\n",
       "      <th>County</th>\n",
       "    </tr>\n",
       "    <tr>\n",
       "      <th>index</th>\n",
       "      <th></th>\n",
       "      <th></th>\n",
       "      <th></th>\n",
       "      <th></th>\n",
       "    </tr>\n",
       "  </thead>\n",
       "  <tbody>\n",
       "    <tr>\n",
       "      <th>1</th>\n",
       "      <td>14.0</td>\n",
       "      <td>58.5</td>\n",
       "      <td>1442</td>\n",
       "      <td>Austin County</td>\n",
       "    </tr>\n",
       "    <tr>\n",
       "      <th>2</th>\n",
       "      <td>28.6</td>\n",
       "      <td>60.8</td>\n",
       "      <td>1264</td>\n",
       "      <td>Austin County</td>\n",
       "    </tr>\n",
       "    <tr>\n",
       "      <th>3</th>\n",
       "      <td>56.9</td>\n",
       "      <td>58.6</td>\n",
       "      <td>2606</td>\n",
       "      <td>Austin County</td>\n",
       "    </tr>\n",
       "    <tr>\n",
       "      <th>4</th>\n",
       "      <td>26.5</td>\n",
       "      <td>54.4</td>\n",
       "      <td>1509</td>\n",
       "      <td>Austin County</td>\n",
       "    </tr>\n",
       "    <tr>\n",
       "      <th>5</th>\n",
       "      <td>19.8</td>\n",
       "      <td>57.7</td>\n",
       "      <td>2910</td>\n",
       "      <td>Austin County</td>\n",
       "    </tr>\n",
       "    <tr>\n",
       "      <th>...</th>\n",
       "      <td>...</td>\n",
       "      <td>...</td>\n",
       "      <td>...</td>\n",
       "      <td>...</td>\n",
       "    </tr>\n",
       "    <tr>\n",
       "      <th>1607</th>\n",
       "      <td>32.3</td>\n",
       "      <td>59.0</td>\n",
       "      <td>2880</td>\n",
       "      <td>Waller County</td>\n",
       "    </tr>\n",
       "    <tr>\n",
       "      <th>1608</th>\n",
       "      <td>18.2</td>\n",
       "      <td>57.0</td>\n",
       "      <td>2474</td>\n",
       "      <td>Waller County</td>\n",
       "    </tr>\n",
       "    <tr>\n",
       "      <th>1609</th>\n",
       "      <td>39.5</td>\n",
       "      <td>56.4</td>\n",
       "      <td>1488</td>\n",
       "      <td>Waller County</td>\n",
       "    </tr>\n",
       "    <tr>\n",
       "      <th>1610</th>\n",
       "      <td>50.0</td>\n",
       "      <td>59.4</td>\n",
       "      <td>4143</td>\n",
       "      <td>Waller County</td>\n",
       "    </tr>\n",
       "    <tr>\n",
       "      <th>1611</th>\n",
       "      <td>1174.9</td>\n",
       "      <td>98.4</td>\n",
       "      <td>5745</td>\n",
       "      <td>Waller County</td>\n",
       "    </tr>\n",
       "  </tbody>\n",
       "</table>\n",
       "<p>1611 rows × 4 columns</p>\n",
       "</div>"
      ],
      "text/plain": [
       "       P001_calc_pctPopDensity  P012_calc_pctWork  P012_calc_numWork  \\\n",
       "index                                                                  \n",
       "1                         14.0               58.5               1442   \n",
       "2                         28.6               60.8               1264   \n",
       "3                         56.9               58.6               2606   \n",
       "4                         26.5               54.4               1509   \n",
       "5                         19.8               57.7               2910   \n",
       "...                        ...                ...                ...   \n",
       "1607                      32.3               59.0               2880   \n",
       "1608                      18.2               57.0               2474   \n",
       "1609                      39.5               56.4               1488   \n",
       "1610                      50.0               59.4               4143   \n",
       "1611                    1174.9               98.4               5745   \n",
       "\n",
       "              County  \n",
       "index                 \n",
       "1      Austin County  \n",
       "2      Austin County  \n",
       "3      Austin County  \n",
       "4      Austin County  \n",
       "5      Austin County  \n",
       "...              ...  \n",
       "1607   Waller County  \n",
       "1608   Waller County  \n",
       "1609   Waller County  \n",
       "1610   Waller County  \n",
       "1611   Waller County  \n",
       "\n",
       "[1611 rows x 4 columns]"
      ]
     },
     "execution_count": 25,
     "metadata": {},
     "output_type": "execute_result"
    }
   ],
   "source": [
    "zones[['P001_calc_pctPopDensity','P012_calc_pctWork','P012_calc_numWork','County']]"
   ]
  },
  {
   "cell_type": "code",
   "execution_count": 26,
   "id": "c8d24d82",
   "metadata": {},
   "outputs": [],
   "source": [
    "tmp_zones = zones[['P001_calc_pctPopDensity','P0010001','P012_calc_numWork','geometry','County']].rename(columns={'P001_calc_pctPopDensity':'density', 'P0010001':'population', 'P012_calc_numWork': 'numWork'  })"
   ]
  },
  {
   "cell_type": "code",
   "execution_count": 27,
   "id": "84d42bd2",
   "metadata": {},
   "outputs": [],
   "source": [
    "output_folder = base_folder+'scenarios/houston/inputs/'\n",
    "tmp_zones.to_file(output_folder + 'zones.geojson',driver='GeoJSON')"
   ]
  },
  {
   "cell_type": "code",
   "execution_count": null,
   "id": "4c0b0360",
   "metadata": {},
   "outputs": [],
   "source": []
  },
  {
   "cell_type": "code",
   "execution_count": 28,
   "id": "88e0a69d",
   "metadata": {},
   "outputs": [
    {
     "name": "stdout",
     "output_type": "stream",
     "text": [
      "P012_calc_pctWork\n",
      "P012_calc_numWork\n"
     ]
    }
   ],
   "source": [
    "for col in zones.columns:\n",
    "    if 'wo' in col.lower():\n",
    "        print(col)"
   ]
  },
  {
   "cell_type": "code",
   "execution_count": 29,
   "id": "269a495c",
   "metadata": {},
   "outputs": [
    {
     "data": {
      "text/html": [
       "<div>\n",
       "<style scoped>\n",
       "    .dataframe tbody tr th:only-of-type {\n",
       "        vertical-align: middle;\n",
       "    }\n",
       "\n",
       "    .dataframe tbody tr th {\n",
       "        vertical-align: top;\n",
       "    }\n",
       "\n",
       "    .dataframe thead th {\n",
       "        text-align: right;\n",
       "    }\n",
       "</style>\n",
       "<table border=\"1\" class=\"dataframe\">\n",
       "  <thead>\n",
       "    <tr style=\"text-align: right;\">\n",
       "      <th></th>\n",
       "      <th>P001_calc_pctPopDensity</th>\n",
       "      <th>P012_calc_pctWork</th>\n",
       "      <th>P012_calc_numWork</th>\n",
       "    </tr>\n",
       "    <tr>\n",
       "      <th>index</th>\n",
       "      <th></th>\n",
       "      <th></th>\n",
       "      <th></th>\n",
       "    </tr>\n",
       "  </thead>\n",
       "  <tbody>\n",
       "    <tr>\n",
       "      <th>1</th>\n",
       "      <td>14.0</td>\n",
       "      <td>58.5</td>\n",
       "      <td>1442</td>\n",
       "    </tr>\n",
       "    <tr>\n",
       "      <th>2</th>\n",
       "      <td>28.6</td>\n",
       "      <td>60.8</td>\n",
       "      <td>1264</td>\n",
       "    </tr>\n",
       "    <tr>\n",
       "      <th>3</th>\n",
       "      <td>56.9</td>\n",
       "      <td>58.6</td>\n",
       "      <td>2606</td>\n",
       "    </tr>\n",
       "    <tr>\n",
       "      <th>4</th>\n",
       "      <td>26.5</td>\n",
       "      <td>54.4</td>\n",
       "      <td>1509</td>\n",
       "    </tr>\n",
       "    <tr>\n",
       "      <th>5</th>\n",
       "      <td>19.8</td>\n",
       "      <td>57.7</td>\n",
       "      <td>2910</td>\n",
       "    </tr>\n",
       "    <tr>\n",
       "      <th>...</th>\n",
       "      <td>...</td>\n",
       "      <td>...</td>\n",
       "      <td>...</td>\n",
       "    </tr>\n",
       "    <tr>\n",
       "      <th>1607</th>\n",
       "      <td>32.3</td>\n",
       "      <td>59.0</td>\n",
       "      <td>2880</td>\n",
       "    </tr>\n",
       "    <tr>\n",
       "      <th>1608</th>\n",
       "      <td>18.2</td>\n",
       "      <td>57.0</td>\n",
       "      <td>2474</td>\n",
       "    </tr>\n",
       "    <tr>\n",
       "      <th>1609</th>\n",
       "      <td>39.5</td>\n",
       "      <td>56.4</td>\n",
       "      <td>1488</td>\n",
       "    </tr>\n",
       "    <tr>\n",
       "      <th>1610</th>\n",
       "      <td>50.0</td>\n",
       "      <td>59.4</td>\n",
       "      <td>4143</td>\n",
       "    </tr>\n",
       "    <tr>\n",
       "      <th>1611</th>\n",
       "      <td>1174.9</td>\n",
       "      <td>98.4</td>\n",
       "      <td>5745</td>\n",
       "    </tr>\n",
       "  </tbody>\n",
       "</table>\n",
       "<p>1611 rows × 3 columns</p>\n",
       "</div>"
      ],
      "text/plain": [
       "       P001_calc_pctPopDensity  P012_calc_pctWork  P012_calc_numWork\n",
       "index                                                               \n",
       "1                         14.0               58.5               1442\n",
       "2                         28.6               60.8               1264\n",
       "3                         56.9               58.6               2606\n",
       "4                         26.5               54.4               1509\n",
       "5                         19.8               57.7               2910\n",
       "...                        ...                ...                ...\n",
       "1607                      32.3               59.0               2880\n",
       "1608                      18.2               57.0               2474\n",
       "1609                      39.5               56.4               1488\n",
       "1610                      50.0               59.4               4143\n",
       "1611                    1174.9               98.4               5745\n",
       "\n",
       "[1611 rows x 3 columns]"
      ]
     },
     "execution_count": 29,
     "metadata": {},
     "output_type": "execute_result"
    }
   ],
   "source": [
    "zones[['P001_calc_pctPopDensity','P012_calc_pctWork','P012_calc_numWork']]"
   ]
  },
  {
   "cell_type": "code",
   "execution_count": 30,
   "id": "0a1ff12d",
   "metadata": {},
   "outputs": [
    {
     "data": {
      "text/plain": [
       "index\n",
       "1       2.347989e+08\n",
       "2       9.842046e+07\n",
       "3       1.054651e+08\n",
       "4       1.415368e+08\n",
       "5       3.445981e+08\n",
       "            ...     \n",
       "1607    2.058521e+08\n",
       "1608    3.248553e+08\n",
       "1609    8.959761e+07\n",
       "1610    1.875881e+08\n",
       "1611    6.663682e+06\n",
       "Name: Shape_Area, Length: 1611, dtype: float64"
      ]
     },
     "execution_count": 30,
     "metadata": {},
     "output_type": "execute_result"
    }
   ],
   "source": [
    "zones['Shape_Area']"
   ]
  },
  {
   "cell_type": "code",
   "execution_count": 31,
   "id": "1d17f597",
   "metadata": {},
   "outputs": [
    {
     "name": "stderr",
     "output_type": "stream",
     "text": [
      "/tmp/ipykernel_19182/2198738084.py:13: UserWarning: Geometry is in a geographic CRS. Results from 'centroid' are likely incorrect. Use 'GeoSeries.to_crs()' to re-project geometries to a projected CRS before this operation.\n",
      "\n",
      "  centroid = [*LineString(zones.centroid.values).centroid.coords][0]\n"
     ]
    },
    {
     "data": {
      "text/plain": [
       "32615"
      ]
     },
     "execution_count": 31,
     "metadata": {},
     "output_type": "execute_result"
    }
   ],
   "source": [
    "# find meters CRS\n",
    "from shapely.geometry import Point, LineString\n",
    "# from quetzal_cyclops\n",
    "def get_epsg(lat: float, lon: float) -> int:\n",
    "    '''\n",
    "    lat, lon or y, x\n",
    "    return EPSG in meter for a given (lat,lon)\n",
    "    lat is north south \n",
    "    lon is est west\n",
    "    '''\n",
    "    return int(32700 - round((45 + lat) / 90, 0) * 100 + round((183 + lon) / 6, 0))\n",
    "\n",
    "centroid = [*LineString(zones.centroid.values).centroid.coords][0]\n",
    "crs = get_epsg(centroid[1],centroid[0])\n",
    "crs"
   ]
  },
  {
   "cell_type": "code",
   "execution_count": 32,
   "id": "5f4ea389",
   "metadata": {},
   "outputs": [
    {
     "data": {
      "text/plain": [
       "23286871095.244537"
      ]
     },
     "execution_count": 32,
     "metadata": {},
     "output_type": "execute_result"
    }
   ],
   "source": [
    "zones['area (km2)'] = zones.to_crs(crs).area\n",
    "zones['area (km2)'].sum()"
   ]
  },
  {
   "cell_type": "code",
   "execution_count": 33,
   "id": "3eca387c",
   "metadata": {},
   "outputs": [
    {
     "data": {
      "text/html": [
       "<div>\n",
       "<style scoped>\n",
       "    .dataframe tbody tr th:only-of-type {\n",
       "        vertical-align: middle;\n",
       "    }\n",
       "\n",
       "    .dataframe tbody tr th {\n",
       "        vertical-align: top;\n",
       "    }\n",
       "\n",
       "    .dataframe thead th {\n",
       "        text-align: right;\n",
       "    }\n",
       "</style>\n",
       "<table border=\"1\" class=\"dataframe\">\n",
       "  <thead>\n",
       "    <tr style=\"text-align: right;\">\n",
       "      <th></th>\n",
       "      <th>Shape_Area</th>\n",
       "      <th>area (km2)</th>\n",
       "    </tr>\n",
       "    <tr>\n",
       "      <th>index</th>\n",
       "      <th></th>\n",
       "      <th></th>\n",
       "    </tr>\n",
       "  </thead>\n",
       "  <tbody>\n",
       "    <tr>\n",
       "      <th>1</th>\n",
       "      <td>2.347989e+08</td>\n",
       "      <td>1.769315e+08</td>\n",
       "    </tr>\n",
       "    <tr>\n",
       "      <th>2</th>\n",
       "      <td>9.842046e+07</td>\n",
       "      <td>7.393711e+07</td>\n",
       "    </tr>\n",
       "    <tr>\n",
       "      <th>3</th>\n",
       "      <td>1.054651e+08</td>\n",
       "      <td>7.933958e+07</td>\n",
       "    </tr>\n",
       "    <tr>\n",
       "      <th>4</th>\n",
       "      <td>1.415368e+08</td>\n",
       "      <td>1.062743e+08</td>\n",
       "    </tr>\n",
       "    <tr>\n",
       "      <th>5</th>\n",
       "      <td>3.445981e+08</td>\n",
       "      <td>2.591938e+08</td>\n",
       "    </tr>\n",
       "    <tr>\n",
       "      <th>...</th>\n",
       "      <td>...</td>\n",
       "      <td>...</td>\n",
       "    </tr>\n",
       "    <tr>\n",
       "      <th>1607</th>\n",
       "      <td>2.058521e+08</td>\n",
       "      <td>1.541194e+08</td>\n",
       "    </tr>\n",
       "    <tr>\n",
       "      <th>1608</th>\n",
       "      <td>3.248553e+08</td>\n",
       "      <td>2.423717e+08</td>\n",
       "    </tr>\n",
       "    <tr>\n",
       "      <th>1609</th>\n",
       "      <td>8.959761e+07</td>\n",
       "      <td>6.686994e+07</td>\n",
       "    </tr>\n",
       "    <tr>\n",
       "      <th>1610</th>\n",
       "      <td>1.875881e+08</td>\n",
       "      <td>1.398176e+08</td>\n",
       "    </tr>\n",
       "    <tr>\n",
       "      <th>1611</th>\n",
       "      <td>6.663682e+06</td>\n",
       "      <td>4.977694e+06</td>\n",
       "    </tr>\n",
       "  </tbody>\n",
       "</table>\n",
       "<p>1611 rows × 2 columns</p>\n",
       "</div>"
      ],
      "text/plain": [
       "         Shape_Area    area (km2)\n",
       "index                            \n",
       "1      2.347989e+08  1.769315e+08\n",
       "2      9.842046e+07  7.393711e+07\n",
       "3      1.054651e+08  7.933958e+07\n",
       "4      1.415368e+08  1.062743e+08\n",
       "5      3.445981e+08  2.591938e+08\n",
       "...             ...           ...\n",
       "1607   2.058521e+08  1.541194e+08\n",
       "1608   3.248553e+08  2.423717e+08\n",
       "1609   8.959761e+07  6.686994e+07\n",
       "1610   1.875881e+08  1.398176e+08\n",
       "1611   6.663682e+06  4.977694e+06\n",
       "\n",
       "[1611 rows x 2 columns]"
      ]
     },
     "execution_count": 33,
     "metadata": {},
     "output_type": "execute_result"
    }
   ],
   "source": [
    "zones[['Shape_Area','area (km2)']]"
   ]
  },
  {
   "cell_type": "code",
   "execution_count": 34,
   "id": "4d5306c6",
   "metadata": {},
   "outputs": [
    {
     "data": {
      "text/plain": [
       "index\n",
       "1       1.327061\n",
       "2       1.331137\n",
       "3       1.329288\n",
       "4       1.331807\n",
       "5       1.329500\n",
       "          ...   \n",
       "1607    1.335666\n",
       "1608    1.340318\n",
       "1609    1.339879\n",
       "1610    1.341663\n",
       "1611    1.338709\n",
       "Length: 1611, dtype: float64"
      ]
     },
     "execution_count": 34,
     "metadata": {},
     "output_type": "execute_result"
    }
   ],
   "source": [
    "zones['Shape_Area']/zones['area (km2)']"
   ]
  },
  {
   "cell_type": "code",
   "execution_count": null,
   "id": "30630228",
   "metadata": {},
   "outputs": [],
   "source": []
  }
 ],
 "metadata": {
  "kernelspec": {
   "display_name": "quetzal_env",
   "language": "python",
   "name": "python3"
  },
  "language_info": {
   "codemirror_mode": {
    "name": "ipython",
    "version": 3
   },
   "file_extension": ".py",
   "mimetype": "text/x-python",
   "name": "python",
   "nbconvert_exporter": "python",
   "pygments_lexer": "ipython3",
   "version": "3.8.19"
  }
 },
 "nbformat": 4,
 "nbformat_minor": 5
}
